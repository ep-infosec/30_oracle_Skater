{
 "cells": [
  {
   "cell_type": "code",
   "execution_count": 14,
   "metadata": {},
   "outputs": [],
   "source": [
    "# Reference: https://github.com/keras-team/keras/blob/master/examples/imdb_lstm.py\n",
    "from keras.preprocessing import sequence\n",
    "from keras.models import Sequential, Model, load_model, model_from_yaml\n",
    "from keras.layers import Dense, Embedding\n",
    "from keras.layers import LSTM, SpatialDropout1D\n",
    "from keras.layers import Dense, Dropout, Flatten, Activation\n",
    "from keras import backend as K\n",
    "from keras.datasets import imdb\n",
    "import tensorflow as tf\n",
    "\n",
    "tf.logging.set_verbosity(tf.logging.ERROR)\n",
    "import numpy as np\n",
    "import pandas as pd\n",
    "\n",
    "from skater.core.local_interpretation.dnni.deep_interpreter import DeepInterpreter\n",
    "from skater.core.visualizer.text_relevance_visualizer import build_visual_explainer\n",
    "from skater.util.dataops import convert_dataframe_to_dict, show_in_notebook"
   ]
  },
  {
   "cell_type": "code",
   "execution_count": 2,
   "metadata": {
    "collapsed": true
   },
   "outputs": [],
   "source": [
    "# Create a TensorFlow session and register it with Keras. It will use this session to initialize all the variables\n",
    "sess = tf.Session()\n",
    "K.set_session(sess)"
   ]
  },
  {
   "cell_type": "code",
   "execution_count": 3,
   "metadata": {
    "collapsed": true
   },
   "outputs": [],
   "source": [
    "max_features = 20000\n",
    "maxlen = 80  # wrap the texts after this number of words (among top max_features most common words)\n",
    "batch_size = 32\n",
    "n_epoch = 3"
   ]
  },
  {
   "cell_type": "markdown",
   "metadata": {},
   "source": [
    "### Load the Dataset\n",
    "#### IMDB dataset: \n",
    "##### 1. http://ai.stanford.edu/~amaas//data/sentiment/\n",
    "##### 2. http://ai.stanford.edu/~ang/papers/acl11-WordVectorsSentimentAnalysis.pdf ( Section 4.1 )"
   ]
  },
  {
   "cell_type": "code",
   "execution_count": 4,
   "metadata": {},
   "outputs": [
    {
     "name": "stdout",
     "output_type": "stream",
     "text": [
      "Loading data...\n",
      "25000 train sequences\n",
      "25000 test sequences\n"
     ]
    }
   ],
   "source": [
    "# The Dataset contains 50,000 reviews(Train:25,000 and Test:25,000)\n",
    "# More info about the dataset: https://keras.io/datasets/#imdb-movie-reviews-sentiment-classification\n",
    "INDEX_FROM = 3\n",
    "print('Loading data...')\n",
    "(x_train, y_train), (x_test, y_test) = imdb.load_data(num_words=max_features, index_from=INDEX_FROM)\n",
    "print(len(x_train), 'train sequences')\n",
    "print(len(x_test), 'test sequences')"
   ]
  },
  {
   "cell_type": "code",
   "execution_count": 5,
   "metadata": {},
   "outputs": [
    {
     "name": "stdout",
     "output_type": "stream",
     "text": [
      "<START> shown in australia as <UNK> this incredibly bad movie is so bad that you become <UNK> and have to watch it to the end just to see if it could get any worse and it does the storyline is so predictable it seems written by a high school dramatics class the sets are pathetic but marginally better than the <UNK> and the acting is wooden br br the infant <UNK> seems to have been stolen from the props cupboard of <UNK> <UNK> there didn't seem to be a single original idea in the whole movie br br i found this movie to be so bad that i laughed most of the way through br br malcolm mcdowell should hang his head in shame he obviously needed the money\n",
      "\n",
      "Length: 129\n"
     ]
    }
   ],
   "source": [
    "# https://stackoverflow.com/questions/42821330/restore-original-text-from-keras-s-imdb-dataset\n",
    "# Reading raw text\n",
    "word_to_id = imdb.get_word_index()\n",
    "\n",
    "def get_raw_txt(word_id_dict, input_data):\n",
    "    word_id_dict = {k:(v+INDEX_FROM) for k,v in word_id_dict.items()}\n",
    "    word_id_dict[\"<PAD>\"] = 0\n",
    "    word_id_dict[\"<START>\"] = 1\n",
    "    word_id_dict[\"<UNK>\"] = 2\n",
    "    id_to_word = {value:key for key,value in word_id_dict.items()}\n",
    "    return ' '.join(id_to_word[_id] for _id in input_data)\n",
    "\n",
    "r_t = get_raw_txt(word_to_id, x_train[20])\n",
    "print(r_t + \"\\n\")\n",
    "print(\"Length: {}\".format(len(r_t.split(' '))))"
   ]
  },
  {
   "cell_type": "code",
   "execution_count": 6,
   "metadata": {},
   "outputs": [
    {
     "name": "stdout",
     "output_type": "stream",
     "text": [
      "Pad sequences (samples x time)\n",
      "x_train shape: (25000, 80)\n",
      "x_test shape: (25000, 80)\n"
     ]
    }
   ],
   "source": [
    "print('Pad sequences (samples x time)')\n",
    "x_train = sequence.pad_sequences(x_train, maxlen=maxlen)\n",
    "x_test = sequence.pad_sequences(x_test, maxlen=maxlen)\n",
    "print('x_train shape:', x_train.shape)\n",
    "print('x_test shape:', x_test.shape)"
   ]
  },
  {
   "cell_type": "code",
   "execution_count": 7,
   "metadata": {},
   "outputs": [
    {
     "name": "stdout",
     "output_type": "stream",
     "text": [
      "dramatics class the sets are pathetic but marginally better than the <UNK> and the acting is wooden br br the infant <UNK> seems to have been stolen from the props cupboard of <UNK> <UNK> there didn't seem to be a single original idea in the whole movie br br i found this movie to be so bad that i laughed most of the way through br br malcolm mcdowell should hang his head in shame he obviously needed the money\n",
      "\n",
      "Length: 80\n"
     ]
    }
   ],
   "source": [
    "r_t_r = get_raw_txt(word_to_id, x_train[20])\n",
    "print(r_t_r + \"\\n\")\n",
    "print(\"Length: {}\".format(len(r_t_r.split(' '))))"
   ]
  },
  {
   "cell_type": "markdown",
   "metadata": {},
   "source": [
    "### Build an LSTM model using word-embeddings"
   ]
  },
  {
   "cell_type": "code",
   "execution_count": 16,
   "metadata": {},
   "outputs": [
    {
     "name": "stdout",
     "output_type": "stream",
     "text": [
      "Build a model...\n"
     ]
    }
   ],
   "source": [
    "print('Build a model...')\n",
    "model = Sequential()\n",
    "model.add(Embedding(input_dim=max_features,\n",
    "                    output_dim=128,\n",
    "                    input_length=maxlen))\n",
    "model.add(SpatialDropout1D(0.4))\n",
    "model.add(LSTM(128, dropout=0.2, recurrent_dropout=0.2))\n",
    "model.add(Dense(1))\n",
    "model.add(Activation('sigmoid'))"
   ]
  },
  {
   "cell_type": "code",
   "execution_count": 17,
   "metadata": {
    "collapsed": true
   },
   "outputs": [],
   "source": [
    "model.compile(loss='binary_crossentropy',\n",
    "              optimizer='adam',\n",
    "              metrics=['accuracy'])"
   ]
  },
  {
   "cell_type": "markdown",
   "metadata": {
    "collapsed": true
   },
   "source": [
    "### Train a model"
   ]
  },
  {
   "cell_type": "code",
   "execution_count": 18,
   "metadata": {},
   "outputs": [
    {
     "name": "stdout",
     "output_type": "stream",
     "text": [
      "Train...\n",
      "Train on 25000 samples, validate on 25000 samples\n",
      "Epoch 1/3\n",
      "25000/25000 [==============================] - 125s - loss: 0.4711 - acc: 0.7762 - val_loss: 0.3929 - val_acc: 0.8263\n",
      "Epoch 2/3\n",
      "25000/25000 [==============================] - 124s - loss: 0.3192 - acc: 0.8692 - val_loss: 0.3633 - val_acc: 0.8418\n",
      "Epoch 3/3\n",
      "25000/25000 [==============================] - 124s - loss: 0.2423 - acc: 0.9055 - val_loss: 0.3918 - val_acc: 0.8375\n"
     ]
    },
    {
     "data": {
      "text/plain": [
       "<keras.callbacks.History at 0x7f6be6141080>"
      ]
     },
     "execution_count": 18,
     "metadata": {},
     "output_type": "execute_result"
    }
   ],
   "source": [
    "print('Train...')\n",
    "model.fit(x_train, y_train,\n",
    "          batch_size=batch_size,\n",
    "          epochs=n_epoch,\n",
    "          validation_data=(x_test, y_test))"
   ]
  },
  {
   "cell_type": "markdown",
   "metadata": {},
   "source": [
    "### Persist the model for future use"
   ]
  },
  {
   "cell_type": "code",
   "execution_count": 19,
   "metadata": {},
   "outputs": [
    {
     "name": "stdout",
     "output_type": "stream",
     "text": [
      "Saved model to disk\n"
     ]
    }
   ],
   "source": [
    "# Save and persist the trained keras model in YAML format\n",
    "model_yaml = model.to_yaml()\n",
    "with open(\"model_lstm_{}.yaml\".format(n_epoch), \"w\") as yaml_file:\n",
    "    yaml_file.write(model_yaml)\n",
    "# serialize weights to HDF5\n",
    "model.save_weights(\"model_lstm_{}.h5\".format(n_epoch))\n",
    "print(\"Saved model to disk\")"
   ]
  },
  {
   "cell_type": "markdown",
   "metadata": {},
   "source": [
    "### Load the saved model"
   ]
  },
  {
   "cell_type": "code",
   "execution_count": 20,
   "metadata": {},
   "outputs": [
    {
     "name": "stdout",
     "output_type": "stream",
     "text": [
      "Loaded model from disk\n"
     ]
    }
   ],
   "source": [
    "# load the model\n",
    "K.set_learning_phase(0)\n",
    "yaml_file = open('model_lstm_{}.yaml'.format(n_epoch), 'r')\n",
    "loaded_model_yaml = yaml_file.read()\n",
    "yaml_file.close()\n",
    "loaded_model = model_from_yaml(loaded_model_yaml)\n",
    "# load weights into new model\n",
    "loaded_model.load_weights(\"model_lstm_{}.h5\".format(n_epoch))\n",
    "print(\"Loaded model from disk\")"
   ]
  },
  {
   "cell_type": "markdown",
   "metadata": {},
   "source": [
    "#### Summarize the Model"
   ]
  },
  {
   "cell_type": "code",
   "execution_count": 21,
   "metadata": {},
   "outputs": [
    {
     "name": "stdout",
     "output_type": "stream",
     "text": [
      "_________________________________________________________________\n",
      "Layer (type)                 Output Shape              Param #   \n",
      "=================================================================\n",
      "embedding_3 (Embedding)      (None, 80, 128)           2560000   \n",
      "_________________________________________________________________\n",
      "spatial_dropout1d_2 (Spatial (None, 80, 128)           0         \n",
      "_________________________________________________________________\n",
      "lstm_3 (LSTM)                (None, 128)               131584    \n",
      "_________________________________________________________________\n",
      "dense_3 (Dense)              (None, 1)                 129       \n",
      "_________________________________________________________________\n",
      "activation_3 (Activation)    (None, 1)                 0         \n",
      "=================================================================\n",
      "Total params: 2,691,713\n",
      "Trainable params: 2,691,713\n",
      "Non-trainable params: 0\n",
      "_________________________________________________________________\n"
     ]
    }
   ],
   "source": [
    "loaded_model.summary()"
   ]
  },
  {
   "cell_type": "markdown",
   "metadata": {},
   "source": [
    "### Evaluating the model's performance ( e.g. Accuracy )"
   ]
  },
  {
   "cell_type": "code",
   "execution_count": 24,
   "metadata": {},
   "outputs": [
    {
     "name": "stdout",
     "output_type": "stream",
     "text": [
      "24992/25000 [============================>.] - ETA: 0s\n",
      "\n",
      "\n",
      "Train score: 0.1477368958902359\n",
      "Train accuracy: 0.95164\n",
      "\n",
      "\n",
      "Test score: 0.391812992708683\n",
      "Test accuracy: 0.83748\n"
     ]
    }
   ],
   "source": [
    "# Compute train and test accuracy using cross entropy as the cost function\n",
    "loaded_model.compile(loss='binary_crossentropy',\n",
    "              optimizer='adam',\n",
    "              metrics=['accuracy'])\n",
    "score_test, acc_test = loaded_model.evaluate(x_test, y_test,\n",
    "                            batch_size=batch_size)\n",
    "\n",
    "score_train, acc_train = loaded_model.evaluate(x_train, y_train,\n",
    "                            batch_size=batch_size)\n",
    "print(\"\\n\\n\")\n",
    "print('Train score:', score_train)\n",
    "print('Train accuracy:', acc_train)\n",
    "print(\"\\n\")\n",
    "print('Test score:', score_test)\n",
    "print('Test accuracy:', acc_test)"
   ]
  },
  {
   "cell_type": "markdown",
   "metadata": {},
   "source": [
    "### Lets ask Skater to help us in interpreting the model"
   ]
  },
  {
   "cell_type": "code",
   "execution_count": 27,
   "metadata": {},
   "outputs": [
    {
     "name": "stdout",
     "output_type": "stream",
     "text": [
      "learning_phase 0\n",
      "Load model from disk\n",
      "1/1 [==============================] - 0s"
     ]
    },
    {
     "name": "stderr",
     "output_type": "stream",
     "text": [
      "2018-06-12 05:33:16,184 - IntegratedGradients - INFO - Executing operations to compute relevance using Integrated Gradient\n"
     ]
    },
    {
     "name": "stdout",
     "output_type": "stream",
     "text": [
      "\n",
      "Predicted class : [[1]]\n",
      "Ground Truth: [1]\n"
     ]
    }
   ],
   "source": [
    "K.set_learning_phase(0)\n",
    "with DeepInterpreter(session=K.get_session()) as di:\n",
    "    print(\"learning_phase {}\".format(K.learning_phase()))\n",
    "    yaml_file = open('model_lstm_3.yaml', 'r')\n",
    "    loaded_model_yaml = yaml_file.read()\n",
    "    yaml_file.close()\n",
    "    \n",
    "    loaded_model = model_from_yaml(loaded_model_yaml)\n",
    "    # load weights into new model\n",
    "    loaded_model.load_weights(\"model_lstm_3.h5\")\n",
    "    print(\"Load model from disk\")    \n",
    "    \n",
    "    # Input data\n",
    "    xs = np.array([x_test[1]])\n",
    "    ys = np.array([y_test[1]])\n",
    "\n",
    "    print('Predicted class : {}'.format(loaded_model.predict_classes(np.array([x_test[1]]))))\n",
    "    print('Ground Truth: {}'.format(ys))\n",
    "    \n",
    "    embedding_tensor = loaded_model.layers[0].output\n",
    "    input_tensor = loaded_model.layers[0].input\n",
    "    \n",
    "    embedding_out = di.session.run(embedding_tensor, {input_tensor: xs});\n",
    "    # Using Integrated Gradient for computing feature relevance\n",
    "    relevance_scores = di.explain('ig', loaded_model.layers[-2].output * ys, \n",
    "                                  loaded_model.layers[1].input, embedding_out, use_case='txt');"
   ]
  },
  {
   "cell_type": "code",
   "execution_count": 28,
   "metadata": {},
   "outputs": [
    {
     "name": "stdout",
     "output_type": "stream",
     "text": [
      "as he spouts the one liners out i also like the scenes with <UNK> at the beginning find her very sexy when she's wearing all that fetish gear i can't be the only one surely i personally think bride of chucky is a fantastic film total entertainment from start to finish great humour horror in equal measure at only 85 minutes long it never becomes boring or dull a personal favourite of mine watch it as soon as you can\n"
     ]
    }
   ],
   "source": [
    "# Retrieve the text\n",
    "r_t = get_raw_txt(word_to_id, x_test[1])\n",
    "print(r_t)"
   ]
  },
  {
   "cell_type": "code",
   "execution_count": 29,
   "metadata": {},
   "outputs": [
    {
     "data": {
      "text/plain": [
       "count    80.000000\n",
       "mean      0.000108\n",
       "std       0.002709\n",
       "min      -0.011811\n",
       "25%      -0.000399\n",
       "50%       0.000355\n",
       "75%       0.001011\n",
       "max       0.007102\n",
       "dtype: float64"
      ]
     },
     "execution_count": 29,
     "metadata": {},
     "output_type": "execute_result"
    }
   ],
   "source": [
    "# building a dataframe with columns 'features' and 'relevance scores'\n",
    "# Since, the relevance score is compute over the embedding vector, we aggregate it by computing 'mean'\n",
    "# over the embedding to get scalar coefficient for the features\n",
    "relevance_scores_df = pd.DataFrame(relevance_scores[0]).mean(axis=1)\n",
    "relevance_scores_df.describe()"
   ]
  },
  {
   "cell_type": "markdown",
   "metadata": {},
   "source": [
    "#### Visualize the results"
   ]
  },
  {
   "cell_type": "code",
   "execution_count": 35,
   "metadata": {},
   "outputs": [
    {
     "name": "stderr",
     "output_type": "stream",
     "text": [
      "2018-06-12 05:36:20,480 - skater.core.visualizer.text_relevance_visualizer - INFO - Rank order feature relevance based on input created and saved as feature_relevance.png\n",
      "2018-06-12 05:36:20,481 - skater.core.visualizer.text_relevance_visualizer - INFO - Relevance plot name: feature_relevance.png\n",
      "2018-06-12 05:36:20,502 - skater.core.visualizer.text_relevance_visualizer - INFO - Visual Explainer built, use show_in_notebook to render in Jupyter style Notebooks: rendered.html\n"
     ]
    }
   ],
   "source": [
    "build_visual_explainer(r_t, relevance_scores_df, highlight_oov=True, file_name=\"rendered\",\n",
    "                       title=\"GroundTruth: {}\\n\".format(y_test[1]), enable_plot=True)"
   ]
  },
  {
   "cell_type": "code",
   "execution_count": 36,
   "metadata": {},
   "outputs": [
    {
     "name": "stderr",
     "output_type": "stream",
     "text": [
      "2018-06-12 05:36:21,624 - skater.util.dataops - INFO - File Name: ./rendered.html\n"
     ]
    },
    {
     "data": {
      "text/html": [
       "<body><h3>GroundTruth: 1\n",
       "</h3><div class=\"row\" style=background-color:#F5F5F5 white-space: pre-wrap; font-size: 12pt; font-family: Avenir Black><span style=\"background-color: rgba(244, 249, 254, 0.7)\">as</span> <span style=\"background-color: rgba(254, 232, 221, 0.7)\">he</span> <span style=\"background-color: rgba(202, 221, 240, 0.7)\">spouts</span> <span style=\"background-color: rgba(254, 232, 222, 0.7)\">the</span> <span style=\"background-color: rgba(255, 245, 240, 0.7)\">one</span> <span style=\"background-color: rgba(254, 220, 205, 0.7)\">liners</span> <span style=\"background-color: rgba(247, 251, 255, 0.7)\">out</span> <span style=\"background-color: rgba(254, 227, 215, 0.7)\">i</span> <span style=\"background-color: rgba(253, 202, 181, 0.7)\">also</span> <span style=\"background-color: rgba(255, 238, 230, 0.7)\">like</span> <span style=\"background-color: rgba(254, 232, 222, 0.7)\">the</span> <span style=\"background-color: rgba(242, 248, 253, 0.7)\">scenes</span> <span style=\"background-color: rgba(255, 242, 235, 0.7)\">with</span> <span style=\"background-color: rgba(255, 242, 235, 0.5)\"><UNK></span> <span style=\"background-color: rgba(255, 238, 230, 0.7)\">at</span> <span style=\"background-color: rgba(254, 232, 222, 0.7)\">the</span> <span style=\"background-color: rgba(254, 218, 202, 0.7)\">beginning</span> <span style=\"background-color: rgba(254, 232, 221, 0.7)\">find</span> <span style=\"background-color: rgba(245, 250, 254, 0.7)\">her</span> <span style=\"background-color: rgba(254, 234, 225, 0.7)\">very</span> <span style=\"background-color: rgba(255, 242, 235, 0.7)\">sexy</span> <span style=\"background-color: rgba(254, 231, 219, 0.7)\">when</span> <span style=\"background-color: rgba(254, 231, 219, 0.5)\">she's</span> <span style=\"background-color: rgba(255, 243, 237, 0.7)\">wearing</span> <span style=\"background-color: rgba(255, 242, 235, 0.7)\">all</span> <span style=\"background-color: rgba(255, 244, 238, 0.7)\">that</span> <span style=\"background-color: rgba(125, 184, 218, 0.7)\">fetish</span> <span style=\"background-color: rgba(193, 217, 237, 0.7)\">gear</span> <span style=\"background-color: rgba(254, 227, 215, 0.7)\">i</span> <span style=\"background-color: rgba(254, 227, 215, 0.5)\">can't</span> <span style=\"background-color: rgba(255, 244, 239, 0.7)\">be</span> <span style=\"background-color: rgba(254, 232, 222, 0.7)\">the</span> <span style=\"background-color: rgba(212, 228, 244, 0.7)\">only</span> <span style=\"background-color: rgba(255, 245, 240, 0.7)\">one</span> <span style=\"background-color: rgba(254, 225, 212, 0.7)\">surely</span> <span style=\"background-color: rgba(254, 227, 215, 0.7)\">i</span> <span style=\"background-color: rgba(255, 241, 234, 0.7)\">personally</span> <span style=\"background-color: rgba(255, 237, 229, 0.7)\">think</span> <span style=\"background-color: rgba(125, 184, 218, 0.7)\">bride</span> <span style=\"background-color: rgba(255, 243, 237, 0.7)\">of</span> <span style=\"background-color: rgba(252, 193, 168, 0.7)\">chucky</span> <span style=\"background-color: rgba(255, 236, 227, 0.7)\">is</span> <span style=\"background-color: rgba(255, 235, 226, 0.7)\">a</span> <span style=\"background-color: rgba(247, 89, 63, 0.7)\">fantastic</span> <span style=\"background-color: rgba(254, 234, 224, 0.7)\">film</span> <span style=\"background-color: rgba(183, 212, 234, 0.7)\">total</span> <span style=\"background-color: rgba(255, 239, 232, 0.7)\">entertainment</span> <span style=\"background-color: rgba(254, 234, 225, 0.7)\">from</span> <span style=\"background-color: rgba(202, 222, 240, 0.7)\">start</span> <span style=\"background-color: rgba(225, 237, 248, 0.7)\">to</span> <span style=\"background-color: rgba(254, 219, 204, 0.7)\">finish</span> <span style=\"background-color: rgba(241, 68, 50, 0.7)\">great</span> <span style=\"background-color: rgba(251, 115, 83, 0.7)\">humour</span> <span style=\"background-color: rgba(206, 224, 242, 0.7)\">horror</span> <span style=\"background-color: rgba(231, 241, 250, 0.7)\">in</span> <span style=\"background-color: rgba(255, 236, 227, 0.7)\">equal</span> <span style=\"background-color: rgba(252, 166, 137, 0.7)\">measure</span> <span style=\"background-color: rgba(255, 238, 230, 0.7)\">at</span> <span style=\"background-color: rgba(212, 228, 244, 0.7)\">only</span> <span style=\"background-color: rgba(255, 240, 233, 0.7)\">85</span> <span style=\"background-color: rgba(174, 209, 231, 0.7)\">minutes</span> <span style=\"background-color: rgba(228, 239, 249, 0.7)\">long</span> <span style=\"background-color: rgba(253, 206, 187, 0.7)\">it</span> <span style=\"background-color: rgba(255, 238, 231, 0.7)\">never</span> <span style=\"background-color: rgba(217, 231, 245, 0.7)\">becomes</span> <span style=\"background-color: rgba(64, 144, 197, 0.7)\">boring</span> <span style=\"background-color: rgba(236, 244, 251, 0.7)\">or</span> <span style=\"background-color: rgba(8, 48, 107, 0.7)\">dull</span> <span style=\"background-color: rgba(255, 235, 226, 0.7)\">a</span> <span style=\"background-color: rgba(207, 225, 242, 0.7)\">personal</span> <span style=\"background-color: rgba(251, 114, 82, 0.7)\">favourite</span> <span style=\"background-color: rgba(255, 243, 237, 0.7)\">of</span> <span style=\"background-color: rgba(252, 166, 137, 0.7)\">mine</span> <span style=\"background-color: rgba(254, 229, 217, 0.7)\">watch</span> <span style=\"background-color: rgba(253, 206, 187, 0.7)\">it</span> <span style=\"background-color: rgba(244, 249, 254, 0.7)\">as</span> <span style=\"background-color: rgba(252, 180, 153, 0.7)\">soon</span> <span style=\"background-color: rgba(244, 249, 254, 0.7)\">as</span> <span style=\"background-color: rgba(253, 210, 191, 0.7)\">you</span> <span style=\"background-color: rgba(168, 206, 228, 0.7)\">can</span></div><div align=\"center\"><img src=\"./feature_relevance.png?3\"</div></body>"
      ],
      "text/plain": [
       "<IPython.core.display.HTML object>"
      ]
     },
     "metadata": {},
     "output_type": "display_data"
    }
   ],
   "source": [
    "show_in_notebook('./rendered.html')"
   ]
  },
  {
   "cell_type": "code",
   "execution_count": null,
   "metadata": {
    "collapsed": true
   },
   "outputs": [],
   "source": []
  }
 ],
 "metadata": {
  "kernelspec": {
   "display_name": "Python 3",
   "language": "python",
   "name": "python3"
  },
  "language_info": {
   "codemirror_mode": {
    "name": "ipython",
    "version": 3
   },
   "file_extension": ".py",
   "mimetype": "text/x-python",
   "name": "python",
   "nbconvert_exporter": "python",
   "pygments_lexer": "ipython3",
   "version": "3.6.3"
  }
 },
 "nbformat": 4,
 "nbformat_minor": 2
}
