{
 "cells": [
  {
   "cell_type": "code",
   "execution_count": null,
   "metadata": {
    "collapsed": true
   },
   "outputs": [],
   "source": [
    "import pandas as pd\n",
    "import numpy as np\n",
    "from sklearn import metrics\n",
    "from itertools import cycle\n",
    "import matplotlib.pyplot as plt\n",
    "from sklearn.model_selection import train_test_split\n",
    "from sklearn.model_selection import validation_curve\n",
    "\n",
    "from skater.core.global_interpretation.interpretable_models.brlc import BRLC\n",
    "from skater.core.global_interpretation.interpretable_models.bigdatabrlc import BigDataBRLC\n",
    "%matplotlib inline"
   ]
  },
  {
   "cell_type": "code",
   "execution_count": 3,
   "metadata": {
    "collapsed": true
   },
   "outputs": [],
   "source": [
    "# Size of the dataset\n",
    "def size_mb(docs):\n",
    "    return sum(len(s.encode('utf-8')) for s in docs) / 1e6"
   ]
  },
  {
   "cell_type": "code",
   "execution_count": null,
   "metadata": {},
   "outputs": [],
   "source": [
    "# Popular titanic dataset from Kaggle: https://www.kaggle.com/c/titanic \n",
    "\n",
    "titanic_df = pd.read_csv(\"data/titanic/train.csv\")\n",
    "print(titanic_df.head())\n",
    "print(\"Quick overview of the titanic dataset\")\n",
    "titanic_df.describe()\n",
    "print('{number:.{digits}f}MB'.format(number=size_mb(titanic_df), digits=5))\n",
    "print(titanic_df.shape)"
   ]
  },
  {
   "cell_type": "code",
   "execution_count": 4,
   "metadata": {
    "collapsed": true
   },
   "outputs": [],
   "source": [
    "# Encoding categorical values\n",
    "# titanic_df[\"Sex\"].astype('category', categories=[\"male\", \"female\"])\n",
    "# sex_df = pd.get_dummies(titanic_df[\"Sex\"],prefix='sex')\n",
    "# titanic_df[\"sex_male\"] = sex_df[\"sex_male\"].astype(str)\n",
    "# titanic_df[\"sex_female\"] = sex_df[\"sex_female\"].astype(str)\n",
    "# titanic_df.head(3)"
   ]
  },
  {
   "cell_type": "code",
   "execution_count": 5,
   "metadata": {},
   "outputs": [
    {
     "name": "stdout",
     "output_type": "stream",
     "text": [
      "   PassengerId  Survived  Pclass  \\\n",
      "0            1         0       3   \n",
      "1            2         1       1   \n",
      "2            3         1       3   \n",
      "3            4         1       1   \n",
      "4            5         0       3   \n",
      "\n",
      "                                                Name     Sex   Age  SibSp  \\\n",
      "0                            Braund, Mr. Owen Harris    male  22.0      1   \n",
      "1  Cumings, Mrs. John Bradley (Florence Briggs Th...  female  38.0      1   \n",
      "2                             Heikkinen, Miss. Laina  female  26.0      0   \n",
      "3       Futrelle, Mrs. Jacques Heath (Lily May Peel)  female  35.0      1   \n",
      "4                           Allen, Mr. William Henry    male  35.0      0   \n",
      "\n",
      "   Parch            Ticket     Fare Cabin Embarked  Sex_Encoded  \\\n",
      "0      0         A/5 21171   7.2500   NaN        S            1   \n",
      "1      0          PC 17599  71.2833   C85        C            0   \n",
      "2      0  STON/O2. 3101282   7.9250   NaN        S            0   \n",
      "3      0            113803  53.1000  C123        S            0   \n",
      "4      0            373450   8.0500   NaN        S            1   \n",
      "\n",
      "   Embarked_Encoded  \n",
      "0                 2  \n",
      "1                 0  \n",
      "2                 2  \n",
      "3                 2  \n",
      "4                 2  \n",
      "   PassengerId  Survived  Pclass   Age  SibSp  Parch     Fare  Sex_Encoded  \\\n",
      "0            1         0       3  22.0      1      0   7.2500            1   \n",
      "1            2         1       1  38.0      1      0  71.2833            0   \n",
      "2            3         1       3  26.0      0      0   7.9250            0   \n",
      "3            4         1       1  35.0      1      0  53.1000            0   \n",
      "4            5         0       3  35.0      0      0   8.0500            1   \n",
      "\n",
      "   Embarked_Encoded  \n",
      "0                 2  \n",
      "1                 0  \n",
      "2                 2  \n",
      "3                 2  \n",
      "4                 2  \n"
     ]
    }
   ],
   "source": [
    "# Encoding categorical values\n",
    "titanic_df[\"Sex\"] = titanic_df[\"Sex\"].astype('category')\n",
    "titanic_df[\"Sex_Encoded\"] = titanic_df[\"Sex\"].cat.codes\n",
    "\n",
    "titanic_df[\"Embarked\"] = titanic_df[\"Embarked\"].astype('category')\n",
    "titanic_df[\"Embarked_Encoded\"] = titanic_df[\"Embarked\"].cat.codes\n",
    "print(titanic_df.head(5))\n",
    "titanic_df_clean = titanic_df.drop(['Ticket','Cabin', 'Name', 'Sex', 'Embarked'], axis=1)\n",
    "# # Remove NaN values\n",
    "titanic_df_clean = titanic_df_clean.dropna() \n",
    "print(titanic_df_clean.head(5))"
   ]
  },
  {
   "cell_type": "code",
   "execution_count": 6,
   "metadata": {
    "collapsed": true
   },
   "outputs": [],
   "source": [
    "y = titanic_df_clean['Survived']"
   ]
  },
  {
   "cell_type": "code",
   "execution_count": 7,
   "metadata": {},
   "outputs": [
    {
     "name": "stdout",
     "output_type": "stream",
     "text": [
      "   PassengerId  Pclass   Age  SibSp  Parch     Fare  Sex_Encoded  \\\n",
      "0            1       3  22.0      1      0   7.2500            1   \n",
      "1            2       1  38.0      1      0  71.2833            0   \n",
      "2            3       3  26.0      0      0   7.9250            0   \n",
      "3            4       1  35.0      1      0  53.1000            0   \n",
      "4            5       3  35.0      0      0   8.0500            1   \n",
      "\n",
      "   Embarked_Encoded  \n",
      "0                 2  \n",
      "1                 0  \n",
      "2                 2  \n",
      "3                 2  \n",
      "4                 2  \n",
      "<class 'str'>\n",
      "['PassengerId', 'Pclass', 'Age', 'SibSp', 'Parch', 'Fare', 'Sex_Encoded', 'Embarked_Encoded']\n"
     ]
    }
   ],
   "source": [
    "data = titanic_df_clean.drop(['Survived'], axis=1)\n",
    "print(data.head())\n",
    "# Lets trying building an Interpretable Model\n",
    "feature_labels = list(data.columns)\n",
    "print(type(feature_labels[0]))\n",
    "print(feature_labels)"
   ]
  },
  {
   "cell_type": "code",
   "execution_count": 8,
   "metadata": {},
   "outputs": [
    {
     "name": "stdout",
     "output_type": "stream",
     "text": [
      "(571, 8)\n",
      "(143, 8)\n",
      "(571,)\n",
      "(143,)\n",
      "<class 'pandas.core.frame.DataFrame'>\n"
     ]
    }
   ],
   "source": [
    "Xtrain, Xtest, ytrain, ytest = train_test_split(data, y, test_size=0.20, random_state=0)\n",
    "print(Xtrain.shape)\n",
    "print(Xtest.shape)\n",
    "print(ytrain.shape)\n",
    "print(ytest.shape)\n",
    "print(type(Xtrain))"
   ]
  },
  {
   "cell_type": "markdown",
   "metadata": {},
   "source": [
    "### Train a Rule List Classifier"
   ]
  },
  {
   "cell_type": "code",
   "execution_count": 10,
   "metadata": {},
   "outputs": [
    {
     "name": "stdout",
     "output_type": "stream",
     "text": [
      "Eclat\n",
      "\n",
      "\n",
      "parameter specification:\n",
      "\n",
      "\n",
      " tidLists\n",
      " support\n",
      " minlen\n",
      " maxlen\n",
      "            target\n",
      "   ext\n",
      "\n",
      "\n",
      "    FALSE\n",
      "     0.1\n",
      "      1\n",
      "      3\n",
      " frequent itemsets\n",
      " FALSE\n",
      "\n",
      "\n",
      "\n",
      "algorithmic control:\n",
      "\n",
      "\n",
      " sparse\n",
      " sort\n",
      " verbose\n",
      "\n",
      "\n",
      "      7\n",
      "   -2\n",
      "    TRUE\n",
      "\n",
      "\n",
      "\n",
      "Absolute minimum support count:\n",
      " \n",
      "22\n",
      " \n",
      "\n",
      "\n",
      "\n",
      "create itemset ... \n",
      "\n",
      "set transactions ...\n",
      "[253 item(s),\n",
      " 226 transaction(s)] done \n",
      "[0.00s].\n",
      "\n",
      "\n",
      "sorting and recoding items ... \n",
      "[20 item(s)] \n",
      "done [0.00s].\n",
      "\n",
      "\n",
      "creating bit matrix ... \n",
      "[20 row(s), 226 column(s)] \n",
      "done [0.00s].\n",
      "\n",
      "writing  ... \n",
      "[189 set(s)] done \n",
      "[0.00s].\n",
      "\n",
      "Creating S4 object  ... \n",
      "done \n",
      "[0.00s].\n",
      "\n",
      "Eclat\n",
      "\n",
      "\n",
      "parameter specification:\n",
      "\n",
      "\n",
      " tidLists\n",
      " support\n",
      " minlen\n",
      " maxlen\n",
      "            target\n",
      "   ext\n",
      "\n",
      "\n",
      "    FALSE\n",
      "     0.1\n",
      "      1\n",
      "      3\n",
      " frequent itemsets\n",
      " FALSE\n",
      "\n",
      "\n",
      "\n",
      "algorithmic control:\n",
      "\n",
      "\n",
      " sparse\n",
      " sort\n",
      " verbose\n",
      "\n",
      "\n",
      "      7\n",
      "   -2\n",
      "    TRUE\n",
      "\n",
      "\n",
      "\n",
      "Absolute minimum support count:\n",
      " \n",
      "34\n",
      " \n",
      "\n",
      "\n",
      "\n",
      "create itemset ... \n",
      "\n",
      "set transactions ...\n",
      "[374 item(s),\n",
      " 345 transaction(s)] done \n",
      "[0.00s].\n",
      "\n",
      "\n",
      "sorting and recoding items ... \n",
      "[18 item(s)] \n",
      "done [0.00s].\n",
      "\n",
      "\n",
      "creating bit matrix ... \n",
      "[18 row(s), 345 column(s)] \n",
      "done [0.00s].\n",
      "\n",
      "writing  ... \n",
      "[163 set(s)] done \n",
      "[0.00s].\n",
      "\n",
      "Creating S4 object  ... \n",
      "done \n",
      "[0.00s].\n",
      "\n"
     ]
    }
   ],
   "source": [
    "sbrl_inst = BRLC(min_rule_len=1, max_rule_len=3, n_chains=6, lambda_=8)\n",
    "# BRLC's fit function knows how to handle continouous variables by discretizing it. If there are features that\n",
    "# one doesn't wish to be discretized that could be specified as a ',' separated list of variables as shown below\n",
    "model = sbrl_inst.fit(Xtrain, ytrain, undiscretize_feature_list=[\"PassengerId\", \"Pclass\", \n",
    "                                                                 \"SibSp\", \"Parch\", \"Sex_Encoded\", \"Embarked_Encoded\"])"
   ]
  },
  {
   "cell_type": "markdown",
   "metadata": {},
   "source": [
    "### Display the fitted model representation"
   ]
  },
  {
   "cell_type": "code",
   "execution_count": 11,
   "metadata": {},
   "outputs": [
    {
     "name": "stdout",
     "output_type": "stream",
     "text": [
      "The rules list is : \n",
      "\n",
      "If      {Pclass=3,Sex_Encoded=0} (rule[148]) then positive probability = 0.42352941\n",
      "\n",
      "else if {Pclass=3} (rule[165]) then positive probability = 0.16346154\n",
      "\n",
      "else if {Sex_Encoded=0} (rule[181]) then positive probability = 0.95041322\n",
      "\n",
      "else if {Pclass=2,Parch=0,Sex_Encoded=1} (rule[107]) then positive probability = 0.05882353\n",
      "\n",
      "else  (default rule)  then positive probability = 0.39361702\n",
      "\n"
     ]
    }
   ],
   "source": [
    "# Encoding rules: 'male=1; female=0'\n",
    "sbrl_inst.print_model()"
   ]
  },
  {
   "cell_type": "code",
   "execution_count": 12,
   "metadata": {},
   "outputs": [
    {
     "name": "stdout",
     "output_type": "stream",
     "text": [
      "['Age_q_label', 'Fare_q_label']\n",
      "Test:\n",
      "     PassengerId  Pclass  SibSp  Parch  Sex_Encoded  Embarked_Encoded  \\\n",
      "423          424       3      1      1            0                 2   \n",
      "177          178       1      0      0            0                 0   \n",
      "\n",
      "        Age_q_label   Fare_q_label  \n",
      "423    (36.5, 72.0]   (36.5, 72.0]  \n",
      "177  (107.5, 143.0]  (72.0, 107.5]  \n",
      "Train:\n",
      "     PassengerId  Pclass  SibSp  Parch  Sex_Encoded  Embarked_Encoded  \\\n",
      "387          388       2      0      0            0                 2   \n",
      "685          686       2      1      2            1                 0   \n",
      "\n",
      "        Age_q_label    Fare_q_label  \n",
      "387  (286.0, 428.5]  (143.5, 286.0]  \n",
      "685  (143.5, 286.0]  (428.5, 571.0]  \n"
     ]
    }
   ],
   "source": [
    "# Discretize the test dataset\n",
    "features_to_be_descrtized = sbrl_inst.discretized_features\n",
    "print(features_to_be_descrtized)\n",
    "new_X_test = sbrl_inst.discretizer(Xtest, column_list=['Age', 'Fare'])\n",
    "print(\"Test:\\n{}\".format(new_X_test.head(2)))\n",
    "\n",
    "\n",
    "# prepare the train set as well\n",
    "new_X_train = sbrl_inst.discretizer(Xtrain, column_list=['Age', 'Fare'])\n",
    "print(\"Train:\\n{}\".format(new_X_train.head(2)))"
   ]
  },
  {
   "cell_type": "code",
   "execution_count": 36,
   "metadata": {},
   "outputs": [
    {
     "data": {
      "text/plain": [
       "(287, 2)"
      ]
     },
     "execution_count": 36,
     "metadata": {},
     "output_type": "execute_result"
    }
   ],
   "source": [
    "results_test_sbrl = sbrl_inst.predict_proba(new_X_train)\n",
    "type(results_test_sbrl)\n",
    "results_test_sbrl.head(2)\n",
    "results_test_sbrl.shape"
   ]
  },
  {
   "cell_type": "code",
   "execution_count": 45,
   "metadata": {},
   "outputs": [
    {
     "name": "stdout",
     "output_type": "stream",
     "text": [
      "<class 'pandas.core.frame.DataFrame'>\n"
     ]
    },
    {
     "data": {
      "text/plain": [
       "(pandas.core.series.Series, numpy.ndarray)"
      ]
     },
     "execution_count": 45,
     "metadata": {},
     "output_type": "execute_result"
    }
   ],
   "source": [
    "results_test_sbrl = sbrl_inst.predict_proba(new_X_test)\n",
    "print(type(results_test_sbrl))\n",
    "a, b  = sbrl_inst.predict(new_X_test, prob_score=results_test_sbrl)\n",
    "type(a), type(b)"
   ]
  },
  {
   "cell_type": "markdown",
   "metadata": {},
   "source": [
    "### Quick evaluation of Rule list model on the train and test set"
   ]
  },
  {
   "cell_type": "code",
   "execution_count": 13,
   "metadata": {},
   "outputs": [
    {
     "name": "stdout",
     "output_type": "stream",
     "text": [
      "AUC-ROC using SBRL(Train): 0.8431512120046172\n",
      "AUC-ROC using SBRL(Test): 0.8596716772151899\n"
     ]
    }
   ],
   "source": [
    "results_test_sbrl = sbrl_inst.predict_proba(new_X_train)\n",
    "# Compute performance metrics\n",
    "fpr_sbrl, tpr_sbrl, thresholds_sbrl = metrics.roc_curve(ytrain ,results_test_sbrl[1], pos_label=1)\n",
    "roc_auc_sbrl = metrics.auc(fpr_sbrl, tpr_sbrl)\n",
    "print(\"AUC-ROC using SBRL(Train): {}\".format(roc_auc_sbrl))\n",
    "\n",
    "\n",
    "results_test_sbrl = sbrl_inst.predict_proba(new_X_test)\n",
    "# Compute performance metrics\n",
    "fpr_sbrl, tpr_sbrl, thresholds_sbrl = metrics.roc_curve(ytest ,results_test_sbrl[1], pos_label=1)\n",
    "roc_auc_sbrl = metrics.auc(fpr_sbrl, tpr_sbrl)\n",
    "print(\"AUC-ROC using SBRL(Test): {}\".format(roc_auc_sbrl))"
   ]
  },
  {
   "cell_type": "markdown",
   "metadata": {},
   "source": [
    "### Compare performance with blackbox model ( Random Forest )"
   ]
  },
  {
   "cell_type": "code",
   "execution_count": 14,
   "metadata": {
    "collapsed": true
   },
   "outputs": [],
   "source": [
    "# Training a regular Tree bases ensemble learner using Random Forest\n",
    "from sklearn.ensemble import RandomForestClassifier\n",
    "y_train = ytrain\n",
    "y_test = ytest\n",
    "x_train = Xtrain\n",
    "x_test = Xtest"
   ]
  },
  {
   "cell_type": "code",
   "execution_count": 15,
   "metadata": {
    "collapsed": true
   },
   "outputs": [],
   "source": [
    "param_range = [1, 10, 20, 30, 40, 50, 60, 100, 200, 300, 400]\n",
    "\n",
    "train_scores, test_scores = validation_curve(\n",
    "    RandomForestClassifier(), x_train, ytrain, param_name=\"n_estimators\", param_range=param_range,\n",
    "    cv=4, scoring=\"accuracy\", n_jobs=3)"
   ]
  },
  {
   "cell_type": "code",
   "execution_count": 16,
   "metadata": {
    "collapsed": true
   },
   "outputs": [],
   "source": [
    "### Evaluating train anf validation set using Cross validation and Vaildation Curve"
   ]
  },
  {
   "cell_type": "code",
   "execution_count": 17,
   "metadata": {},
   "outputs": [
    {
     "data": {
      "image/png": "[encoded data removed]",
      "text/plain": [
       "<matplotlib.figure.Figure at 0x7f53e61a72e8>"
      ]
     },
     "metadata": {},
     "output_type": "display_data"
    }
   ],
   "source": [
    "train_scores_mean = np.mean(train_scores, axis=1)\n",
    "train_scores_std = np.std(train_scores, axis=1)\n",
    "test_scores_mean = np.mean(test_scores, axis=1)\n",
    "test_scores_std = np.std(test_scores, axis=1)\n",
    "\n",
    "plt.title(\"Validation Curve with Random Forest\")\n",
    "plt.xlabel(\"number of trees\")\n",
    "plt.ylabel(\"Score\")\n",
    "plt.ylim(0.0, 1.1)\n",
    "lw = 2\n",
    "plt.semilogx(param_range, train_scores_mean, label=\"Training score\",\n",
    "             color=\"darkorange\", lw=lw)\n",
    "plt.fill_between(param_range, train_scores_mean - train_scores_std,\n",
    "                 train_scores_mean + train_scores_std, alpha=0.2,\n",
    "                 color=\"darkorange\", lw=lw)\n",
    "plt.semilogx(param_range, test_scores_mean, label=\"Cross-validation score\",\n",
    "             color=\"navy\", lw=lw)\n",
    "plt.fill_between(param_range, test_scores_mean - test_scores_std,\n",
    "                 test_scores_mean + test_scores_std, alpha=0.2,\n",
    "                 color=\"navy\", lw=lw)\n",
    "plt.legend(loc=\"best\")\n",
    "plt.show()"
   ]
  },
  {
   "cell_type": "code",
   "execution_count": 18,
   "metadata": {
    "collapsed": true
   },
   "outputs": [],
   "source": [
    "rf_model = RandomForestClassifier(n_estimators=50, random_state=0).fit(x_train, y_train)\n",
    "results_test_rf = pd.DataFrame(rf_model.predict_proba(x_test))\n",
    "results_train_rf = pd.DataFrame(rf_model.predict_proba(x_train))"
   ]
  },
  {
   "cell_type": "code",
   "execution_count": 19,
   "metadata": {},
   "outputs": [
    {
     "data": {
      "text/plain": [
       "array([0, 1])"
      ]
     },
     "execution_count": 19,
     "metadata": {},
     "output_type": "execute_result"
    }
   ],
   "source": [
    "np.unique(y_train)"
   ]
  },
  {
   "cell_type": "code",
   "execution_count": 20,
   "metadata": {},
   "outputs": [
    {
     "name": "stdout",
     "output_type": "stream",
     "text": [
      "AUC-ROC using Random Forest(Train): 1.0\n",
      "AUC-ROC using Random Forest(Test): 0.8636273734177214\n"
     ]
    }
   ],
   "source": [
    "# Evaluating the Random Forest\n",
    "fpr_rf, tpr_rf, thresholds_rf = metrics.roc_curve(ytrain, results_train_rf[1], pos_label=1)\n",
    "roc_auc_rf = metrics.auc(fpr_rf, tpr_rf)\n",
    "print(\"AUC-ROC using Random Forest(Train): {}\".format(roc_auc_rf))\n",
    "\n",
    "\n",
    "fpr_rf, tpr_rf, thresholds_rf = metrics.roc_curve(ytest ,results_test_rf[1], pos_label=1)\n",
    "roc_auc_rf = metrics.auc(fpr_rf, tpr_rf)\n",
    "print(\"AUC-ROC using Random Forest(Test): {}\".format(roc_auc_rf))"
   ]
  },
  {
   "cell_type": "code",
   "execution_count": 21,
   "metadata": {
    "collapsed": true
   },
   "outputs": [],
   "source": [
    "fpr_list = [fpr_rf, fpr_sbrl]\n",
    "tpr_list = [tpr_rf, tpr_sbrl]\n",
    "roc_auc_list = [roc_auc_rf, roc_auc_sbrl]\n",
    "label_list = ['Random Forest', 'Decision Rules']"
   ]
  },
  {
   "cell_type": "code",
   "execution_count": 22,
   "metadata": {},
   "outputs": [
    {
     "data": {
      "text/plain": [
       "<matplotlib.legend.Legend at 0x7f53e4015240>"
      ]
     },
     "execution_count": 22,
     "metadata": {},
     "output_type": "execute_result"
    },
    {
     "data": {
      "image/png": "[encoded data removed]",
      "text/plain": [
       "<matplotlib.figure.Figure at 0x7f53e40732e8>"
      ]
     },
     "metadata": {},
     "output_type": "display_data"
    }
   ],
   "source": [
    "plt.style.use(['seaborn'])\n",
    "plt.figure(figsize=(10,10))\n",
    "plt.rc('font', size=12)\n",
    "lw = 2\n",
    "colors = ['green', 'orchid']\n",
    "for i in range(len(fpr_list)):\n",
    "    plt.plot(fpr_list[i], tpr_list[i], color=colors[i],\n",
    "         lw=lw, label='ROC curve {0} (area = {1:0.2f})'.format(label_list[i], roc_auc_list[i]), )\n",
    "plt.plot([0, 1], [0, 1], color='navy', lw=3, linestyle='--')\n",
    "\n",
    "plt.xlim([0.0, 1.0])\n",
    "plt.ylim([0.0, 1.05])\n",
    "plt.xlabel('False Positive Rate', fontsize=18)\n",
    "plt.ylabel('True Positive Rate', fontsize=18)\n",
    "plt.title('Receiver operating characteristic', fontsize=18)\n",
    "plt.legend(loc=\"lower right\")"
   ]
  },
  {
   "cell_type": "code",
   "execution_count": 23,
   "metadata": {
    "collapsed": true
   },
   "outputs": [],
   "source": [
    "# Save and reload the model and continue with evaluation\n",
    "sbrl_inst.save_model(\"titanic_model.pkl\")"
   ]
  },
  {
   "cell_type": "code",
   "execution_count": 24,
   "metadata": {},
   "outputs": [
    {
     "data": {
      "text/plain": [
       "(array([  1,   2,   4,  11,  12,  17,  18,  25,  28,  37,  39,  41,  42,\n",
       "         45,  46,  54,  58,  62,  68,  69,  71,  75,  76,  80,  81,  92,\n",
       "        100, 101, 116, 131, 133, 134, 137]),)"
      ]
     },
     "execution_count": 24,
     "metadata": {},
     "output_type": "execute_result"
    }
   ],
   "source": [
    "# Validate in-correct predictions; query for in-correct prediction\n",
    "_, y_hat  = sbrl_inst.predict(new_X_test)\n",
    "y_new_test = ytest.apply(lambda f: int(f))\n",
    "\n",
    "query_for_false_predictions = lambda predictions, ground_truth:  np.where(ground_truth != predictions)\n",
    "false_predictions = query_for_false_predictions(y_hat, y_new_test)\n",
    "false_predictions"
   ]
  },
  {
   "cell_type": "markdown",
   "metadata": {},
   "source": [
    "### Observation:\n",
    "Lets evaluate the above trained model and evaluate reasons for in-correct predictions. \n",
    "The trained model is being evaluated on the test dataset with `143` observations. Since, the model is humanly\n",
    "interpretable; output represented as decision stumps based on input features.\n",
    "\n",
    "Most valuable features as per the model; \n",
    "\"Pclass\": Ticket class\n",
    "\"Sex_Encoded\": Sex of the person male/female\n",
    "\"Parch\": Family Relation ; \n",
    "    - Parent = mother, father\n",
    "    - Child = daughter, son, stepdaughter, stepson\n",
    "Some children travelled only with a nanny, therefore parch=0 for them\n",
    "\n",
    "Target: Predicting Prob(survival)\n",
    "[0 = No; 1 = Yes]\n",
    "\n",
    "Now evaluating, input data at index \"1\", we can see that the predicted result is \"survival\"(false positive) but the ground truth is \"0\"(the passenger didn't survive). Since, the model is easily interpretable, we an infer the cause of in-correct prediction very quickly. The model implies that if the passenger is a female then the likelihood of her surviving is 95% and since the passenger in question is a female we know the reason for false positive. \n",
    "** Other decision rules are not contributing to the evaluation."
   ]
  },
  {
   "cell_type": "code",
   "execution_count": 25,
   "metadata": {},
   "outputs": [
    {
     "name": "stdout",
     "output_type": "stream",
     "text": [
      "The rules list is : \n",
      "\n",
      "If      {Pclass=3,Sex_Encoded=0} (rule[148]) then positive probability = 0.42352941\n",
      "\n",
      "else if {Pclass=3} (rule[165]) then positive probability = 0.16346154\n",
      "\n",
      "else if {Sex_Encoded=0} (rule[181]) then positive probability = 0.95041322\n",
      "\n",
      "else if {Pclass=2,Parch=0,Sex_Encoded=1} (rule[107]) then positive probability = 0.05882353\n",
      "\n",
      "else  (default rule)  then positive probability = 0.39361702\n",
      "\n"
     ]
    }
   ],
   "source": [
    "sbrl_inst.print_model()"
   ]
  },
  {
   "cell_type": "code",
   "execution_count": 26,
   "metadata": {},
   "outputs": [
    {
     "name": "stdout",
     "output_type": "stream",
     "text": [
      "Input Data: 1\n"
     ]
    },
    {
     "data": {
      "text/html": [
       "<div>\n",
       "<style>\n",
       "    .dataframe thead tr:only-child th {\n",
       "        text-align: right;\n",
       "    }\n",
       "\n",
       "    .dataframe thead th {\n",
       "        text-align: left;\n",
       "    }\n",
       "\n",
       "    .dataframe tbody tr th {\n",
       "        vertical-align: top;\n",
       "    }\n",
       "</style>\n",
       "<table border=\"1\" class=\"dataframe\">\n",
       "  <thead>\n",
       "    <tr style=\"text-align: right;\">\n",
       "      <th></th>\n",
       "      <th>PassengerId</th>\n",
       "      <th>Pclass</th>\n",
       "      <th>Age</th>\n",
       "      <th>SibSp</th>\n",
       "      <th>Parch</th>\n",
       "      <th>Fare</th>\n",
       "      <th>Sex_Encoded</th>\n",
       "      <th>Embarked_Encoded</th>\n",
       "    </tr>\n",
       "  </thead>\n",
       "  <tbody>\n",
       "    <tr>\n",
       "      <th>177</th>\n",
       "      <td>178</td>\n",
       "      <td>1</td>\n",
       "      <td>50.0</td>\n",
       "      <td>0</td>\n",
       "      <td>0</td>\n",
       "      <td>28.7125</td>\n",
       "      <td>0</td>\n",
       "      <td>0</td>\n",
       "    </tr>\n",
       "  </tbody>\n",
       "</table>\n",
       "</div>"
      ],
      "text/plain": [
       "     PassengerId  Pclass   Age  SibSp  Parch     Fare  Sex_Encoded  \\\n",
       "177          178       1  50.0      0      0  28.7125            0   \n",
       "\n",
       "     Embarked_Encoded  \n",
       "177                 0  "
      ]
     },
     "execution_count": 26,
     "metadata": {},
     "output_type": "execute_result"
    }
   ],
   "source": [
    "print(\"Input Data: {}\".format(1))\n",
    "Xtest.iloc[[1]]"
   ]
  },
  {
   "cell_type": "code",
   "execution_count": 27,
   "metadata": {},
   "outputs": [
    {
     "data": {
      "text/plain": [
       "(0        0.950413\n",
       " label         [1]\n",
       " Name: 1, dtype: object, array([1]))"
      ]
     },
     "execution_count": 27,
     "metadata": {},
     "output_type": "execute_result"
    }
   ],
   "source": [
    "sbrl_inst.predict(new_X_test.iloc[[1]])"
   ]
  },
  {
   "cell_type": "code",
   "execution_count": 28,
   "metadata": {},
   "outputs": [
    {
     "name": "stdout",
     "output_type": "stream",
     "text": [
      "Predicted label: [1]\n",
      "Ground truth: 0\n"
     ]
    }
   ],
   "source": [
    "print(\"Predicted label: {}\".format(sbrl_inst.predict(new_X_test.iloc[[1]])[1]))\n",
    "print(\"Ground truth: {}\".format(ytest.iloc[[1]].values[0]))"
   ]
  },
  {
   "cell_type": "code",
   "execution_count": 29,
   "metadata": {
    "collapsed": true
   },
   "outputs": [],
   "source": [
    "# Generating scores for test data as provided by Kaggle\n",
    "test_titanic_df = pd.read_csv(\"data/titanic/test.csv\")"
   ]
  },
  {
   "cell_type": "code",
   "execution_count": 30,
   "metadata": {},
   "outputs": [
    {
     "name": "stdout",
     "output_type": "stream",
     "text": [
      "   PassengerId  Pclass   Age  SibSp  Parch     Fare  Sex_Encoded  \\\n",
      "0          892       3  34.5      0      0   7.8292            1   \n",
      "1          893       3  47.0      1      0   7.0000            0   \n",
      "2          894       2  62.0      0      0   9.6875            1   \n",
      "3          895       3  27.0      0      0   8.6625            1   \n",
      "4          896       3  22.0      1      1  12.2875            0   \n",
      "\n",
      "   Embarked_Encoded  \n",
      "0                 1  \n",
      "1                 2  \n",
      "2                 1  \n",
      "3                 2  \n",
      "4                 2  \n",
      "Test:\n",
      "   PassengerId  Pclass  SibSp  Parch  Sex_Encoded  Embarked_Encoded  \\\n",
      "0          892       3      0      0            1                 1   \n",
      "1          893       3      1      0            0                 2   \n",
      "\n",
      "       Age_q_label    Fare_q_label  \n",
      "0  (166.5, 249.25]  (0.999, 105.0]  \n",
      "1  (249.25, 332.0]  (0.999, 105.0]  \n"
     ]
    }
   ],
   "source": [
    "test_titanic_df[\"Sex\"] = test_titanic_df[\"Sex\"].astype('category')\n",
    "test_titanic_df[\"Sex_Encoded\"] = test_titanic_df[\"Sex\"].cat.codes\n",
    "\n",
    "test_titanic_df[\"Embarked\"] = test_titanic_df[\"Embarked\"].astype('category')\n",
    "test_titanic_df[\"Embarked_Encoded\"] = test_titanic_df[\"Embarked\"].cat.codes\n",
    "# print(test_titanic_df.head(5))\n",
    "test_titanic_df_clean = test_titanic_df.drop(['Ticket','Cabin', 'Name', 'Sex', 'Embarked'], axis=1)\n",
    "print(test_titanic_df_clean.head(5))\n",
    "\n",
    "# Discretize continuous features\n",
    "test_titanic = sbrl_inst.discretizer(test_titanic_df_clean, column_list=['Age', 'Fare'])\n",
    "print(\"Test:\\n{}\".format(test_titanic.head(2)))"
   ]
  },
  {
   "cell_type": "code",
   "execution_count": 31,
   "metadata": {
    "collapsed": true
   },
   "outputs": [],
   "source": [
    "results = sbrl_inst.predict_proba(test_titanic)"
   ]
  },
  {
   "cell_type": "code",
   "execution_count": 32,
   "metadata": {
    "collapsed": true
   },
   "outputs": [],
   "source": [
    "results['Survived'] = np.where(results.loc[:, 1].values > 0.5, 1, 0)\n",
    "results['PassengerId'] = test_titanic['PassengerId'].astype(str)\n",
    "# Write the results to disk\n",
    "results[['PassengerId', 'Survived']].to_csv('/home/ubuntu/pramit/Skater/results.csv', index_label=False, index=False)"
   ]
  },
  {
   "cell_type": "markdown",
   "metadata": {
    "collapsed": true
   },
   "source": [
    "### Handle datasets bigger than > 1k input examples"
   ]
  },
  {
   "cell_type": "code",
   "execution_count": 28,
   "metadata": {},
   "outputs": [
    {
     "name": "stdout",
     "output_type": "stream",
     "text": [
      "287\n"
     ]
    }
   ],
   "source": [
    "sbrl_big = BigDataBRLC(sub_sample_percentage=0.5, min_rule_len=1, max_rule_len=4, iterations=10000, n_chains=3, \n",
    "                       surrogate_estimator=\"SVM\")\n",
    "n_x, n_y = sbrl_big.subsample(Xtrain, ytrain, pos_label=1)\n",
    "print(len(n_x))"
   ]
  },
  {
   "cell_type": "code",
   "execution_count": 29,
   "metadata": {},
   "outputs": [
    {
     "data": {
      "text/html": [
       "<div>\n",
       "<style>\n",
       "    .dataframe thead tr:only-child th {\n",
       "        text-align: right;\n",
       "    }\n",
       "\n",
       "    .dataframe thead th {\n",
       "        text-align: left;\n",
       "    }\n",
       "\n",
       "    .dataframe tbody tr th {\n",
       "        vertical-align: top;\n",
       "    }\n",
       "</style>\n",
       "<table border=\"1\" class=\"dataframe\">\n",
       "  <thead>\n",
       "    <tr style=\"text-align: right;\">\n",
       "      <th></th>\n",
       "      <th>PassengerId</th>\n",
       "      <th>Pclass</th>\n",
       "      <th>Age</th>\n",
       "      <th>SibSp</th>\n",
       "      <th>Parch</th>\n",
       "      <th>Fare</th>\n",
       "      <th>Sex_Encoded</th>\n",
       "      <th>Embarked_Encoded</th>\n",
       "    </tr>\n",
       "  </thead>\n",
       "  <tbody>\n",
       "    <tr>\n",
       "      <th>472</th>\n",
       "      <td>473</td>\n",
       "      <td>2</td>\n",
       "      <td>33.0</td>\n",
       "      <td>1</td>\n",
       "      <td>2</td>\n",
       "      <td>27.750</td>\n",
       "      <td>0</td>\n",
       "      <td>2</td>\n",
       "    </tr>\n",
       "    <tr>\n",
       "      <th>659</th>\n",
       "      <td>660</td>\n",
       "      <td>1</td>\n",
       "      <td>58.0</td>\n",
       "      <td>0</td>\n",
       "      <td>2</td>\n",
       "      <td>113.275</td>\n",
       "      <td>1</td>\n",
       "      <td>0</td>\n",
       "    </tr>\n",
       "    <tr>\n",
       "      <th>809</th>\n",
       "      <td>810</td>\n",
       "      <td>1</td>\n",
       "      <td>33.0</td>\n",
       "      <td>1</td>\n",
       "      <td>0</td>\n",
       "      <td>53.100</td>\n",
       "      <td>0</td>\n",
       "      <td>2</td>\n",
       "    </tr>\n",
       "  </tbody>\n",
       "</table>\n",
       "</div>"
      ],
      "text/plain": [
       "     PassengerId  Pclass   Age  SibSp  Parch     Fare  Sex_Encoded  \\\n",
       "472          473       2  33.0      1      2   27.750            0   \n",
       "659          660       1  58.0      0      2  113.275            1   \n",
       "809          810       1  33.0      1      0   53.100            0   \n",
       "\n",
       "     Embarked_Encoded  \n",
       "472                 2  \n",
       "659                 0  \n",
       "809                 2  "
      ]
     },
     "execution_count": 29,
     "metadata": {},
     "output_type": "execute_result"
    }
   ],
   "source": [
    "# quick scan of the data\n",
    "n_x.head(3)"
   ]
  },
  {
   "cell_type": "code",
   "execution_count": 30,
   "metadata": {},
   "outputs": [
    {
     "name": "stdout",
     "output_type": "stream",
     "text": [
      "Eclat\n",
      "\n",
      "\n",
      "parameter specification:\n",
      "\n",
      "\n",
      " tidLists\n",
      " support\n",
      " minlen\n",
      " maxlen\n",
      "            target\n",
      "   ext\n",
      "\n",
      "\n",
      "    FALSE\n",
      "     0.1\n",
      "      1\n",
      "      4\n",
      " frequent itemsets\n",
      " FALSE\n",
      "\n",
      "\n",
      "\n",
      "algorithmic control:\n",
      "\n",
      "\n",
      " sparse\n",
      " sort\n",
      " verbose\n",
      "\n",
      "\n",
      "      7\n",
      "   -2\n",
      "    TRUE\n",
      "\n",
      "\n",
      "\n",
      "Absolute minimum support count:\n",
      " \n",
      "11\n",
      " \n",
      "\n",
      "\n",
      "\n",
      "create itemset ... \n",
      "\n",
      "set transactions ...\n",
      "[139 item(s),\n",
      " 114 transaction(s)] done \n",
      "[0.00s].\n",
      "\n",
      "\n",
      "sorting and recoding items ... \n",
      "[19 item(s)] \n",
      "done [0.00s].\n",
      "\n",
      "\n",
      "creating bit matrix ... \n",
      "[19 row(s), 114 column(s)] \n",
      "done [0.00s].\n",
      "\n",
      "writing  ... \n",
      "[248 set(s)] done \n",
      "[0.00s].\n",
      "\n",
      "Creating S4 object  ... \n",
      "done \n",
      "[0.00s].\n",
      "\n",
      "Eclat\n",
      "\n",
      "\n",
      "parameter specification:\n",
      "\n",
      "\n",
      " tidLists\n",
      " support\n",
      " minlen\n",
      " maxlen\n",
      "            target\n",
      "   ext\n",
      "\n",
      "\n",
      "    FALSE\n",
      "     0.1\n",
      "      1\n",
      "      4\n",
      " frequent itemsets\n",
      " FALSE\n",
      "\n",
      "\n",
      "\n",
      "algorithmic control:\n",
      "\n",
      "\n",
      " sparse\n",
      " sort\n",
      " verbose\n",
      "\n",
      "\n",
      "      7\n",
      "   -2\n",
      "    TRUE\n",
      "\n",
      "\n",
      "\n",
      "Absolute minimum support count:\n",
      " \n",
      "17\n",
      " \n",
      "\n",
      "\n",
      "\n",
      "create itemset ... \n",
      "\n",
      "set transactions ...\n",
      "[202 item(s),\n",
      " 173 transaction(s)] done \n",
      "[0.00s].\n",
      "\n",
      "\n",
      "sorting and recoding items ... \n",
      "[20 item(s)] \n",
      "done [0.00s].\n",
      "\n",
      "\n",
      "creating bit matrix ... \n",
      "[20 row(s), 173 column(s)] \n",
      "done [0.00s].\n",
      "\n",
      "writing  ... \n",
      "[226 set(s)] done \n",
      "[0.00s].\n",
      "\n",
      "Creating S4 object  ... \n",
      "done \n",
      "[0.00s].\n",
      "\n"
     ]
    }
   ],
   "source": [
    "model=sbrl_big.fit(n_x, n_y, undiscretize_feature_list=[\"PassengerId\", \"Pclass\", \n",
    "                                                                 \"SibSp\", \"Parch\", \"Sex_Encoded\", \"Embarked_Encoded\"])"
   ]
  },
  {
   "cell_type": "code",
   "execution_count": 31,
   "metadata": {},
   "outputs": [
    {
     "name": "stdout",
     "output_type": "stream",
     "text": [
      "The rules list is : \n",
      "\n",
      "If      {Sex_Encoded=1} (rule[276]) then positive probability = 0.18709677\n",
      "\n",
      "else if {Pclass=3} (rule[237]) then positive probability = 0.32352941\n",
      "\n",
      "else  (default rule)  then positive probability = 0.94029851\n",
      "\n"
     ]
    }
   ],
   "source": [
    "sbrl_big.print_model()"
   ]
  },
  {
   "cell_type": "markdown",
   "metadata": {},
   "source": [
    "### Evaluating model built using BigDataBRLC"
   ]
  },
  {
   "cell_type": "code",
   "execution_count": 32,
   "metadata": {},
   "outputs": [
    {
     "name": "stdout",
     "output_type": "stream",
     "text": [
      "['Age_q_label', 'Fare_q_label']\n",
      "Test:\n",
      "     PassengerId  Pclass  SibSp  Parch  Sex_Encoded  Embarked_Encoded  \\\n",
      "423          424       3      1      1            0                 2   \n",
      "177          178       1      0      0            0                 0   \n",
      "\n",
      "        Age_q_label   Fare_q_label  \n",
      "423    (36.5, 72.0]   (36.5, 72.0]  \n",
      "177  (107.5, 143.0]  (72.0, 107.5]  \n",
      "Train:\n",
      "     PassengerId  Pclass  SibSp  Parch  Sex_Encoded  Embarked_Encoded  \\\n",
      "472          473       2      1      2            0                 2   \n",
      "659          660       1      0      2            1                 0   \n",
      "\n",
      "        Age_q_label    Fare_q_label  \n",
      "472  (144.0, 215.5]  (144.0, 215.5]  \n",
      "659  (215.5, 287.0]  (215.5, 287.0]  \n",
      "-----------------------------------------------------------------\n",
      "AUC-ROC using SBRL(Train): 0.8042794848392658\n",
      "AUC-ROC using SBRL(Test): 0.8096321202531647\n"
     ]
    }
   ],
   "source": [
    "# Discretize the test dataset\n",
    "features_to_be_descrtized = sbrl_big.discretized_features\n",
    "print(features_to_be_descrtized)\n",
    "new_X_test = sbrl_inst.discretizer(Xtest, column_list=['Age', 'Fare'])\n",
    "print(\"Test:\\n{}\".format(new_X_test.head(2)))\n",
    "\n",
    "# prepare the train set using the subsampled dataset\n",
    "new_X_train = sbrl_inst.discretizer(n_x, column_list=['Age', 'Fare'])\n",
    "print(\"Train:\\n{}\".format(new_X_train.head(2)))\n",
    "\n",
    "print(\"-----------------------------------------------------------------\")\n",
    "\n",
    "results_test_sbrl = sbrl_big.predict_proba(new_X_train)\n",
    "# Compute performance metrics\n",
    "fpr_sbrl, tpr_sbrl, thresholds_sbrl = metrics.roc_curve(n_y ,results_test_sbrl[1], pos_label=1)\n",
    "roc_auc_sbrl = metrics.auc(fpr_sbrl, tpr_sbrl)\n",
    "print(\"AUC-ROC using SBRL(Train): {}\".format(roc_auc_sbrl))\n",
    "\n",
    "results_test_sbrl = sbrl_big.predict_proba(new_X_test)\n",
    "# Compute performance metrics\n",
    "fpr_sbrl, tpr_sbrl, thresholds_sbrl = metrics.roc_curve(ytest ,results_test_sbrl[1], pos_label=1)\n",
    "roc_auc_sbrl = metrics.auc(fpr_sbrl, tpr_sbrl)\n",
    "print(\"AUC-ROC using SBRL(Test): {}\".format(roc_auc_sbrl))"
   ]
  }
 ],
 "metadata": {
  "kernelspec": {
   "display_name": "Python 3",
   "language": "python",
   "name": "python3"
  },
  "language_info": {
   "codemirror_mode": {
    "name": "ipython",
    "version": 3
   },
   "file_extension": ".py",
   "mimetype": "text/x-python",
   "name": "python",
   "nbconvert_exporter": "python",
   "pygments_lexer": "ipython3",
   "version": "3.6.3"
  }
 },
 "nbformat": 4,
 "nbformat_minor": 2
}
