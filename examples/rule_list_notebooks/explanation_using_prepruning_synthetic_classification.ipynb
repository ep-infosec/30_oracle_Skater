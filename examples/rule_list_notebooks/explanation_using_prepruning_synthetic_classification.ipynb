{
 "cells": [
  {
   "cell_type": "code",
   "execution_count": 11,
   "metadata": {},
   "outputs": [],
   "source": [
    "import numpy as np\n",
    "import pandas as pd\n",
    "from sklearn.datasets import make_classification\n",
    "from sklearn.ensemble import RandomForestClassifier\n",
    "from sklearn.tree import DecisionTreeClassifier\n",
    "\n",
    "# Creating synthetic data for testing\n",
    "X, y = make_classification(n_samples=3000,\n",
    "                           n_features=10,\n",
    "                           n_informative=5,\n",
    "                           n_classes=2,\n",
    "                           random_state=42,\n",
    "                           n_redundant=2,\n",
    "                           shuffle=True)\n",
    "\n",
    "# Converting to pandas dataframe\n",
    "df = pd.DataFrame({'X_A':X[:,0], 'X_B':X[:,1], 'X_C':X[:,2], 'X_D':X[:,3], 'X_E':X[:,4], 'X_F':X[:,5],\n",
    "                   'X_G':X[:,6], 'X_H':X[:,7], 'X_I':X[:,8], 'X_J':X[:,9]})\n",
    "\n",
    "\n",
    "X_df = df"
   ]
  },
  {
   "cell_type": "code",
   "execution_count": 12,
   "metadata": {},
   "outputs": [
    {
     "data": {
      "text/html": [
       "<div>\n",
       "<style scoped>\n",
       "    .dataframe tbody tr th:only-of-type {\n",
       "        vertical-align: middle;\n",
       "    }\n",
       "\n",
       "    .dataframe tbody tr th {\n",
       "        vertical-align: top;\n",
       "    }\n",
       "\n",
       "    .dataframe thead th {\n",
       "        text-align: right;\n",
       "    }\n",
       "</style>\n",
       "<table border=\"1\" class=\"dataframe\">\n",
       "  <thead>\n",
       "    <tr style=\"text-align: right;\">\n",
       "      <th></th>\n",
       "      <th>X_A</th>\n",
       "      <th>X_B</th>\n",
       "      <th>X_C</th>\n",
       "      <th>X_D</th>\n",
       "      <th>X_E</th>\n",
       "      <th>X_F</th>\n",
       "      <th>X_G</th>\n",
       "      <th>X_H</th>\n",
       "      <th>X_I</th>\n",
       "      <th>X_J</th>\n",
       "    </tr>\n",
       "  </thead>\n",
       "  <tbody>\n",
       "    <tr>\n",
       "      <th>0</th>\n",
       "      <td>1.410580</td>\n",
       "      <td>-0.049361</td>\n",
       "      <td>-0.697806</td>\n",
       "      <td>-1.181848</td>\n",
       "      <td>-2.309817</td>\n",
       "      <td>-1.561517</td>\n",
       "      <td>0.096659</td>\n",
       "      <td>0.388382</td>\n",
       "      <td>2.027015</td>\n",
       "      <td>-1.954503</td>\n",
       "    </tr>\n",
       "    <tr>\n",
       "      <th>1</th>\n",
       "      <td>-0.133019</td>\n",
       "      <td>-1.106122</td>\n",
       "      <td>-2.035283</td>\n",
       "      <td>-1.478108</td>\n",
       "      <td>0.713020</td>\n",
       "      <td>0.939141</td>\n",
       "      <td>-2.566454</td>\n",
       "      <td>-2.824373</td>\n",
       "      <td>0.837529</td>\n",
       "      <td>-0.118245</td>\n",
       "    </tr>\n",
       "    <tr>\n",
       "      <th>2</th>\n",
       "      <td>-0.707181</td>\n",
       "      <td>-0.666710</td>\n",
       "      <td>-2.948409</td>\n",
       "      <td>-0.478965</td>\n",
       "      <td>-0.658751</td>\n",
       "      <td>-0.149534</td>\n",
       "      <td>-0.978965</td>\n",
       "      <td>-1.178977</td>\n",
       "      <td>0.040190</td>\n",
       "      <td>1.567323</td>\n",
       "    </tr>\n",
       "  </tbody>\n",
       "</table>\n",
       "</div>"
      ],
      "text/plain": [
       "        X_A       X_B       X_C       X_D       X_E       X_F       X_G  \\\n",
       "0  1.410580 -0.049361 -0.697806 -1.181848 -2.309817 -1.561517  0.096659   \n",
       "1 -0.133019 -1.106122 -2.035283 -1.478108  0.713020  0.939141 -2.566454   \n",
       "2 -0.707181 -0.666710 -2.948409 -0.478965 -0.658751 -0.149534 -0.978965   \n",
       "\n",
       "        X_H       X_I       X_J  \n",
       "0  0.388382  2.027015 -1.954503  \n",
       "1 -2.824373  0.837529 -0.118245  \n",
       "2 -1.178977  0.040190  1.567323  "
      ]
     },
     "execution_count": 12,
     "metadata": {},
     "output_type": "execute_result"
    }
   ],
   "source": [
    "X_df.head(3)"
   ]
  },
  {
   "cell_type": "code",
   "execution_count": 13,
   "metadata": {
    "collapsed": true
   },
   "outputs": [],
   "source": [
    "# Train and test split\n",
    "from sklearn.model_selection import train_test_split\n",
    "X_train, X_test, y_train, y_test = train_test_split(X_df, y, test_size=0.20, random_state=42)"
   ]
  },
  {
   "cell_type": "code",
   "execution_count": 14,
   "metadata": {},
   "outputs": [
    {
     "name": "stdout",
     "output_type": "stream",
     "text": [
      "\n",
      "--------Train dataset classification report----------\n",
      "\n",
      "             precision    recall  f1-score   support\n",
      "\n",
      "    class 0       0.99      0.99      0.99      1207\n",
      "    class 1       0.99      0.99      0.99      1193\n",
      "\n",
      "avg / total       0.99      0.99      0.99      2400\n",
      "\n",
      "\n",
      "--------Test dataset classification report----------\n",
      "\n",
      "             precision    recall  f1-score   support\n",
      "\n",
      "    class 0       0.83      0.84      0.83       292\n",
      "    class 1       0.85      0.83      0.84       308\n",
      "\n",
      "avg / total       0.84      0.84      0.84       600\n",
      "\n"
     ]
    }
   ],
   "source": [
    "from sklearn.metrics import classification_report\n",
    "\n",
    "clf = RandomForestClassifier(n_estimators=5, class_weight=\"balanced\", oob_score=True, random_state=42)\n",
    "clf.fit(X_train, y_train)\n",
    "y_hat_train = clf.predict(X_train)\n",
    "y_hat = clf.predict(X_test)\n",
    "\n",
    "print(\"\\n--------Train dataset classification report----------\\n\")\n",
    "target_names = ['class 0', 'class 1']\n",
    "print(classification_report(y_train, y_hat_train, target_names=target_names))\n",
    "\n",
    "print(\"\\n--------Test dataset classification report----------\\n\")\n",
    "target_names = ['class 0', 'class 1']\n",
    "print(classification_report(y_test, y_hat, target_names=target_names))"
   ]
  },
  {
   "cell_type": "code",
   "execution_count": 15,
   "metadata": {},
   "outputs": [
    {
     "name": "stdout",
     "output_type": "stream",
     "text": [
      "Classes: [0 1]\n",
      "Features: ['X_A', 'X_B', 'X_C', 'X_D', 'X_E', 'X_F', 'X_G', 'X_H', 'X_I', 'X_J']\n"
     ]
    }
   ],
   "source": [
    "print(\"Classes: {}\".format(np.unique(y_train)))\n",
    "feature_names = list(X_train.columns)\n",
    "print(\"Features: {}\".format(feature_names))"
   ]
  },
  {
   "cell_type": "markdown",
   "metadata": {},
   "source": [
    "## Quick Global Evaluation"
   ]
  },
  {
   "cell_type": "markdown",
   "metadata": {},
   "source": [
    "#### 1. Visualizing decision boundaries"
   ]
  },
  {
   "cell_type": "code",
   "execution_count": 39,
   "metadata": {},
   "outputs": [],
   "source": [
    "%matplotlib inline\n",
    "from skater.core.visualizer import decision_boundary as db\n",
    "\n",
    "# Uncomment the the below function to generate decision plot.\n",
    "# _, _ = db.plot_decision_boundary(clf, X0=X_train.iloc[:, 3], X1=X_train.iloc[:, 9], Y=y_train, \n",
    "#                                  x0_label=feature_names[3], x1_label=feature_names[9],\n",
    "#                                  mode='interactive', height=6, width=10, file_name='iplot')"
   ]
  },
  {
   "cell_type": "markdown",
   "metadata": {},
   "source": [
    "#### 2. Using pruned Tree Surrogates"
   ]
  },
  {
   "cell_type": "code",
   "execution_count": 21,
   "metadata": {},
   "outputs": [],
   "source": [
    "from skater.core.explanations import Interpretation\n",
    "from skater.model import InMemoryModel\n",
    "from skater.util.dataops import show_in_notebook\n",
    "from skater.util.logger import _INFO, _DEBUG\n",
    "\n",
    "target_names = ['class 0', 'class 1']\n",
    "interpreter = Interpretation(X_train, feature_names=feature_names)\n",
    "model_inst = InMemoryModel(clf.predict, examples=X_train, model_type='classifier', \n",
    "                           unique_values=[0, 1], probability=False,\n",
    "                           feature_names=feature_names, target_names=target_names, log_level=_INFO)"
   ]
  },
  {
   "cell_type": "code",
   "execution_count": 22,
   "metadata": {},
   "outputs": [
    {
     "name": "stderr",
     "output_type": "stream",
     "text": [
      "2018-09-24 00:44:22,662 - skater.core.global_interpretation.tree_surrogate - INFO - No pruning applied ...\n",
      "2018-09-24 00:44:22,687 - skater.core.global_interpretation.tree_surrogate - INFO - Done generating prediction using the surrogate, shape (2400,)\n",
      "2018-09-24 00:44:22,689 - skater.core.global_interpretation.tree_surrogate - INFO - Done scoring, surrogate score 1.0; oracle score 0.987\n"
     ]
    },
    {
     "data": {
      "text/plain": [
       "-0.013"
      ]
     },
     "execution_count": 22,
     "metadata": {},
     "output_type": "execute_result"
    }
   ],
   "source": [
    "# Learn or Fit a TreeSurrogate(Decision Tree - with no pruning). This setting will most likely overfit the \n",
    "# previously trained instance.\n",
    "# Note: TreeSurrogate is being trained with respect to the predicted labels retrieved by querying the base estimator\n",
    "# (for this e.g. previously trained RandomForest). \n",
    "surrogate_explainer = interpreter.tree_surrogate(oracle=model_inst, seed=5)\n",
    "surrogate_explainer.fit(X_train, y_train, use_oracle=True, prune=None, scorer_type='f1')"
   ]
  },
  {
   "cell_type": "code",
   "execution_count": 23,
   "metadata": {},
   "outputs": [
    {
     "name": "stdout",
     "output_type": "stream",
     "text": [
      "\n",
      "--------Test dataset classification report----------\n",
      "\n",
      "             precision    recall  f1-score   support\n",
      "\n",
      "    class 0       0.83      0.82      0.82       292\n",
      "    class 1       0.83      0.84      0.83       308\n",
      "\n",
      "avg / total       0.83      0.83      0.83       600\n",
      "\n"
     ]
    }
   ],
   "source": [
    "y_hat = surrogate_explainer.predict(X_test)\n",
    "print(\"\\n--------Test dataset classification report----------\\n\")\n",
    "target_names = ['class 0', 'class 1']\n",
    "print(classification_report(y_test, y_hat, target_names=target_names))"
   ]
  },
  {
   "cell_type": "code",
   "execution_count": 24,
   "metadata": {},
   "outputs": [
    {
     "data": {
      "text/plain": [
       "<pydotplus.graphviz.Dot at 0x7fce8ad7f978>"
      ]
     },
     "execution_count": 24,
     "metadata": {},
     "output_type": "execute_result"
    }
   ],
   "source": [
    "%matplotlib inline\n",
    "surrogate_explainer.plot_global_decisions(colors=['lightsteelblue','darkkhaki'], \n",
    "                                          file_name='tree_experiment.png', show_img=False)"
   ]
  },
  {
   "cell_type": "code",
   "execution_count": 40,
   "metadata": {},
   "outputs": [],
   "source": [
    "#show_in_notebook('tree_experiment.png', width=800, height=400)"
   ]
  },
  {
   "cell_type": "code",
   "execution_count": 26,
   "metadata": {},
   "outputs": [
    {
     "name": "stderr",
     "output_type": "stream",
     "text": [
      "2018-09-24 00:45:51,432 - skater.core.global_interpretation.tree_surrogate - INFO - pre pruning applied ...\n",
      "2018-09-24 00:45:51,433 - skater.core.global_interpretation.tree_surrogate - INFO - Scorer used f1-score\n",
      "2018-09-24 00:45:52,514 - skater.core.global_interpretation.tree_surrogate - INFO - Done generating prediction using the surrogate, shape (2400,)\n",
      "2018-09-24 00:45:52,517 - skater.core.global_interpretation.tree_surrogate - INFO - Done scoring, surrogate score 0.846; oracle score 0.987\n",
      "2018-09-24 00:45:52,518 - skater.core.global_interpretation.tree_surrogate - WARNING - impurity score: 0.141 of the surrogate model is higher than the impurity threshold: 0.01. The higher the impurity score, lower is the fidelity/faithfulness of the surrogate model\n"
     ]
    },
    {
     "data": {
      "text/plain": [
       "0.141"
      ]
     },
     "execution_count": 26,
     "metadata": {},
     "output_type": "execute_result"
    }
   ],
   "source": [
    "# One can specify the external params if default setting is not producing acceptable results. \n",
    "# Currently, prepruning is done with the help of CV.\n",
    "params = {\"criterion\": ['gini', 'entropy'], \"min_samples_leaf\": [4, 6],\n",
    "\"max_leaf_nodes\": [12, 20], \"max_depth\": [10, 12]\n",
    "}\n",
    "\n",
    "surrogate_explainer.fit(X_train, y_train, use_oracle=True, prune='pre', scorer_type='f1', param_grid=params)"
   ]
  },
  {
   "cell_type": "code",
   "execution_count": 27,
   "metadata": {},
   "outputs": [
    {
     "name": "stdout",
     "output_type": "stream",
     "text": [
      "\n",
      "--------Test dataset classification report----------\n",
      "\n",
      "             precision    recall  f1-score   support\n",
      "\n",
      "    class 0       0.77      0.89      0.83       292\n",
      "    class 1       0.88      0.74      0.81       308\n",
      "\n",
      "avg / total       0.83      0.82      0.82       600\n",
      "\n"
     ]
    }
   ],
   "source": [
    "y_hat = surrogate_explainer.predict(X_test)\n",
    "print(\"\\n--------Test dataset classification report----------\\n\")\n",
    "target_names = ['class 0', 'class 1']\n",
    "print(classification_report(y_test, y_hat, target_names=target_names))"
   ]
  },
  {
   "cell_type": "code",
   "execution_count": 30,
   "metadata": {},
   "outputs": [
    {
     "data": {
      "text/plain": [
       "DecisionTreeClassifier(class_weight='balanced', criterion='entropy',\n",
       "            max_depth=10, max_features=None, max_leaf_nodes=20,\n",
       "            min_impurity_decrease=0.0, min_impurity_split=None,\n",
       "            min_samples_leaf=4, min_samples_split=2,\n",
       "            min_weight_fraction_leaf=0.0, presort=False, random_state=5,\n",
       "            splitter='best')"
      ]
     },
     "execution_count": 30,
     "metadata": {},
     "output_type": "execute_result"
    }
   ],
   "source": [
    "# Estimator used for final scoring ...\n",
    "surrogate_explainer.estimator_"
   ]
  },
  {
   "cell_type": "code",
   "execution_count": 31,
   "metadata": {},
   "outputs": [
    {
     "data": {
      "text/plain": [
       "<pydotplus.graphviz.Dot at 0x7fce6b987748>"
      ]
     },
     "execution_count": 31,
     "metadata": {},
     "output_type": "execute_result"
    }
   ],
   "source": [
    "surrogate_explainer.plot_global_decisions(colors=['lightsteelblue','darkkhaki'], file_name='tree_pruned.png', \n",
    "                                          show_img=False)"
   ]
  },
  {
   "cell_type": "code",
   "execution_count": 41,
   "metadata": {},
   "outputs": [],
   "source": [
    "#show_in_notebook('tree_pruned.png', width=600, height=600)"
   ]
  },
  {
   "cell_type": "code",
   "execution_count": 42,
   "metadata": {},
   "outputs": [
    {
     "name": "stdout",
     "output_type": "stream",
     "text": [
      "if \u001b[0;32;49mX_I <= -1.6024528741836548\u001b[0;30;49m {\n",
      "   \u001b[1;34;49m Predicted Label: 1\n",
      "\u001b[0;30;49m} else {\n",
      "  if \u001b[0;32;49mX_J <= 1.2718250751495361\u001b[0;30;49m {\n",
      "    if \u001b[0;32;49mX_D <= -0.6693952679634094\u001b[0;30;49m {\n",
      "      if \u001b[0;32;49mX_C <= 1.4347039461135864\u001b[0;30;49m {\n",
      "        if \u001b[0;32;49mX_I <= -0.0651244968175888\u001b[0;30;49m {\n",
      "           \u001b[1;34;49m Predicted Label: 1\n",
      "        \u001b[0;30;49m} else {\n",
      "          if \u001b[0;32;49mX_C <= 0.4285590648651123\u001b[0;30;49m {\n",
      "             \u001b[1;34;49m Predicted Label: 0\n",
      "          \u001b[0;30;49m} else {\n",
      "             \u001b[1;34;49m Predicted Label: 0\n",
      "          \u001b[0;30;49m}\n",
      "        \u001b[0;30;49m}\n",
      "      \u001b[0;30;49m} else {\n",
      "         \u001b[1;34;49m Predicted Label: 1\n",
      "      \u001b[0;30;49m}\n",
      "    \u001b[0;30;49m} else {\n",
      "      if \u001b[0;32;49mX_C <= -0.25395074486732483\u001b[0;30;49m {\n",
      "        if \u001b[0;32;49mX_D <= 0.4669700264930725\u001b[0;30;49m {\n",
      "           \u001b[1;34;49m Predicted Label: 0\n",
      "        \u001b[0;30;49m} else {\n",
      "          if \u001b[0;32;49mX_E <= 0.15138494968414307\u001b[0;30;49m {\n",
      "             \u001b[1;34;49m Predicted Label: 1\n",
      "          \u001b[0;30;49m} else {\n",
      "            if \u001b[0;32;49mX_J <= -0.34872758388519287\u001b[0;30;49m {\n",
      "               \u001b[1;34;49m Predicted Label: 1\n",
      "            \u001b[0;30;49m} else {\n",
      "               \u001b[1;34;49m Predicted Label: 0\n",
      "            \u001b[0;30;49m}\n",
      "          \u001b[0;30;49m}\n",
      "        \u001b[0;30;49m}\n",
      "      \u001b[0;30;49m} else {\n",
      "        if \u001b[0;32;49mX_F <= -0.4313923120498657\u001b[0;30;49m {\n",
      "          if \u001b[0;32;49mX_J <= -1.3327233791351318\u001b[0;30;49m {\n",
      "             \u001b[1;34;49m Predicted Label: 0\n",
      "          \u001b[0;30;49m} else {\n",
      "             \u001b[1;34;49m Predicted Label: 1\n",
      "          \u001b[0;30;49m}\n",
      "        \u001b[0;30;49m} else {\n",
      "          if \u001b[0;32;49mX_G <= 1.463248610496521\u001b[0;30;49m {\n",
      "            if \u001b[0;32;49mX_I <= 1.4413695335388184\u001b[0;30;49m {\n",
      "              if \u001b[0;32;49mX_D <= 1.4605364799499512\u001b[0;30;49m {\n",
      "                 \u001b[1;34;49m Predicted Label: 0\n",
      "              \u001b[0;30;49m} else {\n",
      "                 \u001b[1;34;49m Predicted Label: 0\n",
      "              \u001b[0;30;49m}\n",
      "            \u001b[0;30;49m} else {\n",
      "              if \u001b[0;32;49mX_G <= 0.38425934314727783\u001b[0;30;49m {\n",
      "                 \u001b[1;34;49m Predicted Label: 1\n",
      "              \u001b[0;30;49m} else {\n",
      "                 \u001b[1;34;49m Predicted Label: 0\n",
      "              \u001b[0;30;49m}\n",
      "            \u001b[0;30;49m}\n",
      "          \u001b[0;30;49m} else {\n",
      "            if \u001b[0;32;49mX_C <= 1.3841372728347778\u001b[0;30;49m {\n",
      "               \u001b[1;34;49m Predicted Label: 0\n",
      "            \u001b[0;30;49m} else {\n",
      "               \u001b[1;34;49m Predicted Label: 0\n",
      "            \u001b[0;30;49m}\n",
      "          \u001b[0;30;49m}\n",
      "        \u001b[0;30;49m}\n",
      "      \u001b[0;30;49m}\n",
      "    \u001b[0;30;49m}\n",
      "  \u001b[0;30;49m} else {\n",
      "    if \u001b[0;32;49mX_F <= 0.0828331932425499\u001b[0;30;49m {\n",
      "      if \u001b[0;32;49mX_G <= 2.064497232437134\u001b[0;30;49m {\n",
      "         \u001b[1;34;49m Predicted Label: 1\n",
      "      \u001b[0;30;49m} else {\n",
      "         \u001b[1;34;49m Predicted Label: 1\n",
      "      \u001b[0;30;49m}\n",
      "    \u001b[0;30;49m} else {\n",
      "       \u001b[1;34;49m Predicted Label: 0\n",
      "    \u001b[0;30;49m}\n",
      "  \u001b[0;30;49m}\n",
      "\u001b[0;30;49m}\n"
     ]
    }
   ],
   "source": [
    "# as text:\n",
    "surrogate_explainer.decisions_as_txt()"
   ]
  },
  {
   "cell_type": "markdown",
   "metadata": {
    "collapsed": true
   },
   "source": [
    "## Quick Local Evaluation"
   ]
  },
  {
   "cell_type": "code",
   "execution_count": 43,
   "metadata": {
    "collapsed": true
   },
   "outputs": [],
   "source": [
    "# Filter for in-correct predictions\n",
    "in_correct_prediction = np.where(y_hat != y_test)"
   ]
  },
  {
   "cell_type": "code",
   "execution_count": 44,
   "metadata": {},
   "outputs": [
    {
     "data": {
      "text/plain": [
       "(array([  3,   7,  21,  31,  32,  36,  43,  63,  65,  70,  77,  82,  83,\n",
       "         98,  99, 102, 105, 106, 113, 119, 128, 129, 130, 131, 139, 140,\n",
       "        145, 161, 164, 171, 173, 184, 192, 194, 195, 196, 198, 199, 205,\n",
       "        211, 212, 214, 217, 219, 240, 251, 253, 258, 263, 277, 279, 282,\n",
       "        284, 289, 294, 299, 306, 307, 312, 314, 323, 339, 342, 349, 354,\n",
       "        360, 361, 369, 371, 377, 381, 387, 391, 393, 414, 416, 424, 428,\n",
       "        438, 439, 444, 452, 463, 465, 466, 471, 476, 478, 488, 492, 493,\n",
       "        495, 498, 500, 505, 517, 521, 530, 534, 536, 539, 542, 549, 550,\n",
       "        553, 565, 576, 585, 593, 595]),)"
      ]
     },
     "execution_count": 44,
     "metadata": {},
     "output_type": "execute_result"
    }
   ],
   "source": [
    "in_correct_prediction"
   ]
  },
  {
   "cell_type": "code",
   "execution_count": 45,
   "metadata": {},
   "outputs": [
    {
     "name": "stdout",
     "output_type": "stream",
     "text": [
      "Data row: X_A    1.998863\n",
      "X_B    0.611233\n",
      "X_C   -3.723808\n",
      "X_D    0.251678\n",
      "X_E    2.958946\n",
      "X_F    3.354935\n",
      "X_G   -4.038143\n",
      "X_H    0.865037\n",
      "X_I   -1.696806\n",
      "X_J    2.361284\n",
      "Name: 1437, dtype: float64\n",
      "-----------------------------------------------\n",
      "Target Label: 0\n"
     ]
    }
   ],
   "source": [
    "sample_index = 306\n",
    "print(\"Data row: {}\".format(X_test.iloc[sample_index]))\n",
    "print(\"-----------------------------------------------\")\n",
    "print(\"Target Label: {}\".format(y_test[sample_index]))"
   ]
  },
  {
   "cell_type": "code",
   "execution_count": 46,
   "metadata": {},
   "outputs": [
    {
     "name": "stdout",
     "output_type": "stream",
     "text": [
      "Ground Truth : 0\n",
      "Oracle Model [0]:\n",
      "Using TreeSurrogate [1]:\n"
     ]
    }
   ],
   "source": [
    "print(\"Ground Truth : {}\".format(y_test[sample_index]))\n",
    "print(\"Oracle Model {}:\".format(clf.predict(X_test.iloc[sample_index].values.reshape(1, -1))))\n",
    "print(\"Using TreeSurrogate {}:\".format(surrogate_explainer.predict(X_test.iloc[sample_index].values.reshape(1, -1))))"
   ]
  },
  {
   "cell_type": "code",
   "execution_count": 47,
   "metadata": {},
   "outputs": [
    {
     "name": "stdout",
     "output_type": "stream",
     "text": [
      "As \u001b[0;32;49mX_I[-1.6968063342595445] <= -1.6024528741836548\u001b[0;30;49m then,\n",
      "   \u001b[1;34;49m Predicted Label: 1\n"
     ]
    }
   ],
   "source": [
    "surrogate_explainer.decisions_as_txt(scope=\"local\", X=X_test.iloc[sample_index])"
   ]
  }
 ],
 "metadata": {
  "kernelspec": {
   "display_name": "Python 3",
   "language": "python",
   "name": "python3"
  },
  "language_info": {
   "codemirror_mode": {
    "name": "ipython",
    "version": 3
   },
   "file_extension": ".py",
   "mimetype": "text/x-python",
   "name": "python",
   "nbconvert_exporter": "python",
   "pygments_lexer": "ipython3",
   "version": "3.6.3"
  }
 },
 "nbformat": 4,
 "nbformat_minor": 2
}
