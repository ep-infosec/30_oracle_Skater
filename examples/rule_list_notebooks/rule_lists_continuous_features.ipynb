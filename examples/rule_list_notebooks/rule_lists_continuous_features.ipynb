{
 "cells": [
  {
   "cell_type": "code",
   "execution_count": 134,
   "metadata": {},
   "outputs": [],
   "source": [
    "from sklearn.datasets.mldata import fetch_mldata\n",
    "from sklearn.model_selection import train_test_split\n",
    "from sklearn.ensemble import RandomForestClassifier\n",
    "import pandas as pd\n",
    "import numpy as np\n",
    "from sklearn import metrics\n",
    "from skater.core.global_interpretation.interpretable_models.brlc import BRLC\n",
    "%matplotlib inline"
   ]
  },
  {
   "cell_type": "code",
   "execution_count": 135,
   "metadata": {},
   "outputs": [
    {
     "name": "stdout",
     "output_type": "stream",
     "text": [
      "mldata.org dataset: diabetes\n"
     ]
    }
   ],
   "source": [
    "feature_labels = [\"Pregnant\",\"Glucose_concentration_test\",\"Blood_pressure(mmHg)\",\"Triceps_skin_fold_thickness(mm)\",\"2-Hour_serum_insulin_(mu_U/ml)\",\"Body_mass_index\",\"Diabetes_pedigree_function\",\"Age_(years)\"]\n",
    "    \n",
    "data = fetch_mldata(\"diabetes\") # get dataset\n",
    "y = (data.target+1)/2 # to bound the target label from (-1, 1) -> (0, 1)\n",
    "print(data.DESCR)"
   ]
  },
  {
   "cell_type": "code",
   "execution_count": 136,
   "metadata": {
    "collapsed": true
   },
   "outputs": [],
   "source": [
    "data_df = pd.DataFrame(data.data, columns=feature_labels)"
   ]
  },
  {
   "cell_type": "code",
   "execution_count": 137,
   "metadata": {},
   "outputs": [
    {
     "data": {
      "text/plain": [
       "(768, 8)"
      ]
     },
     "execution_count": 137,
     "metadata": {},
     "output_type": "execute_result"
    }
   ],
   "source": [
    "data_df.shape"
   ]
  },
  {
   "cell_type": "markdown",
   "metadata": {},
   "source": [
    "## Observation:\n",
    "If we take a quick look at the data, we will notice that this dataset has a bunch of continuous features. There might be a need for for discretization to get better accuracy"
   ]
  },
  {
   "cell_type": "code",
   "execution_count": 138,
   "metadata": {},
   "outputs": [
    {
     "data": {
      "text/html": [
       "<div>\n",
       "<style>\n",
       "    .dataframe thead tr:only-child th {\n",
       "        text-align: right;\n",
       "    }\n",
       "\n",
       "    .dataframe thead th {\n",
       "        text-align: left;\n",
       "    }\n",
       "\n",
       "    .dataframe tbody tr th {\n",
       "        vertical-align: top;\n",
       "    }\n",
       "</style>\n",
       "<table border=\"1\" class=\"dataframe\">\n",
       "  <thead>\n",
       "    <tr style=\"text-align: right;\">\n",
       "      <th></th>\n",
       "      <th>Pregnant</th>\n",
       "      <th>Glucose_concentration_test</th>\n",
       "      <th>Blood_pressure(mmHg)</th>\n",
       "      <th>Triceps_skin_fold_thickness(mm)</th>\n",
       "      <th>2-Hour_serum_insulin_(mu_U/ml)</th>\n",
       "      <th>Body_mass_index</th>\n",
       "      <th>Diabetes_pedigree_function</th>\n",
       "      <th>Age_(years)</th>\n",
       "    </tr>\n",
       "  </thead>\n",
       "  <tbody>\n",
       "    <tr>\n",
       "      <th>0</th>\n",
       "      <td>6.0</td>\n",
       "      <td>148.0</td>\n",
       "      <td>72.0</td>\n",
       "      <td>35.0</td>\n",
       "      <td>0.0</td>\n",
       "      <td>33.599998</td>\n",
       "      <td>0.627</td>\n",
       "      <td>50.0</td>\n",
       "    </tr>\n",
       "    <tr>\n",
       "      <th>1</th>\n",
       "      <td>1.0</td>\n",
       "      <td>85.0</td>\n",
       "      <td>66.0</td>\n",
       "      <td>29.0</td>\n",
       "      <td>0.0</td>\n",
       "      <td>26.600000</td>\n",
       "      <td>0.351</td>\n",
       "      <td>31.0</td>\n",
       "    </tr>\n",
       "    <tr>\n",
       "      <th>2</th>\n",
       "      <td>8.0</td>\n",
       "      <td>183.0</td>\n",
       "      <td>64.0</td>\n",
       "      <td>0.0</td>\n",
       "      <td>0.0</td>\n",
       "      <td>23.299999</td>\n",
       "      <td>0.672</td>\n",
       "      <td>32.0</td>\n",
       "    </tr>\n",
       "    <tr>\n",
       "      <th>3</th>\n",
       "      <td>1.0</td>\n",
       "      <td>89.0</td>\n",
       "      <td>66.0</td>\n",
       "      <td>23.0</td>\n",
       "      <td>94.0</td>\n",
       "      <td>28.100000</td>\n",
       "      <td>0.167</td>\n",
       "      <td>21.0</td>\n",
       "    </tr>\n",
       "    <tr>\n",
       "      <th>4</th>\n",
       "      <td>0.0</td>\n",
       "      <td>137.0</td>\n",
       "      <td>40.0</td>\n",
       "      <td>35.0</td>\n",
       "      <td>168.0</td>\n",
       "      <td>43.099998</td>\n",
       "      <td>2.288</td>\n",
       "      <td>33.0</td>\n",
       "    </tr>\n",
       "  </tbody>\n",
       "</table>\n",
       "</div>"
      ],
      "text/plain": [
       "   Pregnant  Glucose_concentration_test  Blood_pressure(mmHg)  \\\n",
       "0       6.0                       148.0                  72.0   \n",
       "1       1.0                        85.0                  66.0   \n",
       "2       8.0                       183.0                  64.0   \n",
       "3       1.0                        89.0                  66.0   \n",
       "4       0.0                       137.0                  40.0   \n",
       "\n",
       "   Triceps_skin_fold_thickness(mm)  2-Hour_serum_insulin_(mu_U/ml)  \\\n",
       "0                             35.0                             0.0   \n",
       "1                             29.0                             0.0   \n",
       "2                              0.0                             0.0   \n",
       "3                             23.0                            94.0   \n",
       "4                             35.0                           168.0   \n",
       "\n",
       "   Body_mass_index  Diabetes_pedigree_function  Age_(years)  \n",
       "0        33.599998                       0.627         50.0  \n",
       "1        26.600000                       0.351         31.0  \n",
       "2        23.299999                       0.672         32.0  \n",
       "3        28.100000                       0.167         21.0  \n",
       "4        43.099998                       2.288         33.0  "
      ]
     },
     "execution_count": 138,
     "metadata": {},
     "output_type": "execute_result"
    }
   ],
   "source": [
    "data_df.head()"
   ]
  },
  {
   "cell_type": "code",
   "execution_count": 130,
   "metadata": {
    "collapsed": true
   },
   "outputs": [],
   "source": [
    "# Sample code for filtering pandas dataframe by column\n",
    "# data_df = data_df[[\"Pregnant\",\"Glucose_concentration_test\"]]"
   ]
  },
  {
   "cell_type": "code",
   "execution_count": 139,
   "metadata": {},
   "outputs": [
    {
     "data": {
      "text/plain": [
       "array([ 0.,  1.])"
      ]
     },
     "execution_count": 139,
     "metadata": {},
     "output_type": "execute_result"
    }
   ],
   "source": [
    "# Default test split-size = 0.25\n",
    "Xtrain, Xtest, ytrain, ytest = train_test_split(data_df, y) # split\n",
    "# Target Labels: 1:positive 0:negative\n",
    "np.unique(ytrain)"
   ]
  },
  {
   "cell_type": "code",
   "execution_count": 140,
   "metadata": {},
   "outputs": [
    {
     "name": "stdout",
     "output_type": "stream",
     "text": [
      "(576, 8)\n",
      "(192, 8)\n"
     ]
    }
   ],
   "source": [
    "print(Xtrain.shape)\n",
    "print(Xtest.shape)"
   ]
  },
  {
   "cell_type": "code",
   "execution_count": 141,
   "metadata": {},
   "outputs": [
    {
     "name": "stdout",
     "output_type": "stream",
     "text": [
      "     Pregnant  Glucose_concentration_test  Blood_pressure(mmHg)  \\\n",
      "30        5.0                       109.0                  75.0   \n",
      "729       2.0                        92.0                  52.0   \n",
      "381       0.0                       105.0                  68.0   \n",
      "741       3.0                       102.0                  44.0   \n",
      "303       5.0                       115.0                  98.0   \n",
      "\n",
      "     Triceps_skin_fold_thickness(mm)  2-Hour_serum_insulin_(mu_U/ml)  \\\n",
      "30                              26.0                             0.0   \n",
      "729                              0.0                             0.0   \n",
      "381                             22.0                             0.0   \n",
      "741                             20.0                            94.0   \n",
      "303                              0.0                             0.0   \n",
      "\n",
      "     Body_mass_index  Diabetes_pedigree_function  Age_(years)  \n",
      "30         36.000000                       0.546         60.0  \n",
      "729        30.100000                       0.141         22.0  \n",
      "381        20.000000                       0.236         22.0  \n",
      "741        30.799999                       0.400         26.0  \n",
      "303        52.900002                       0.209         28.0  \n",
      "(576, 8)\n",
      "(576,)\n"
     ]
    }
   ],
   "source": [
    "print(Xtrain.head())\n",
    "print(Xtrain.shape)\n",
    "print(ytrain.shape)"
   ]
  },
  {
   "cell_type": "code",
   "execution_count": 142,
   "metadata": {},
   "outputs": [
    {
     "name": "stdout",
     "output_type": "stream",
     "text": [
      "Index(['Pregnant', 'Glucose_concentration_test', 'Blood_pressure(mmHg)',\n",
      "       'Triceps_skin_fold_thickness(mm)', '2-Hour_serum_insulin_(mu_U/ml)',\n",
      "       'Body_mass_index', 'Diabetes_pedigree_function', 'Age_(years)'],\n",
      "      dtype='object')\n"
     ]
    }
   ],
   "source": [
    "# Features to be used for training a Rule List model\n",
    "print(Xtrain.columns)"
   ]
  },
  {
   "cell_type": "markdown",
   "metadata": {},
   "source": [
    "### Train an interpretable model"
   ]
  },
  {
   "cell_type": "code",
   "execution_count": 153,
   "metadata": {},
   "outputs": [
    {
     "name": "stdout",
     "output_type": "stream",
     "text": [
      "Eclat\n",
      "\n",
      "\n",
      "parameter specification:\n",
      "\n",
      "\n",
      " tidLists\n",
      " support\n",
      " minlen\n",
      " maxlen\n",
      "            target\n",
      "   ext\n",
      "\n",
      "\n",
      "    FALSE\n",
      "     0.1\n",
      "      1\n",
      "     10\n",
      " frequent itemsets\n",
      " FALSE\n",
      "\n",
      "\n",
      "\n",
      "algorithmic control:\n",
      "\n",
      "\n",
      " sparse\n",
      " sort\n",
      " verbose\n",
      "\n",
      "\n",
      "      7\n",
      "   -2\n",
      "    TRUE\n",
      "\n",
      "\n",
      "\n",
      "Absolute minimum support count:\n",
      " \n",
      "38\n",
      " \n",
      "\n",
      "\n",
      "\n",
      "create itemset ... \n",
      "\n",
      "set transactions ...\n",
      "[32 item(s),\n",
      " 380 transaction(s)] done \n",
      "[0.00s].\n",
      "\n",
      "\n",
      "sorting and recoding items ... \n",
      "[32 item(s)] \n",
      "done [0.00s].\n",
      "\n",
      "\n",
      "creating bit matrix ... \n",
      "[32 row(s), 380 column(s)] \n",
      "done [0.00s].\n",
      "\n",
      "writing  ... \n",
      "[75 set(s)] done \n",
      "[0.00s].\n",
      "\n",
      "Creating S4 object  ... \n",
      "done \n",
      "[0.00s].\n",
      "\n",
      "Eclat\n",
      "\n",
      "\n",
      "parameter specification:\n",
      "\n",
      "\n",
      " tidLists\n",
      " support\n",
      " minlen\n",
      " maxlen\n",
      "            target\n",
      "   ext\n",
      "\n",
      "\n",
      "    FALSE\n",
      "     0.1\n",
      "      1\n",
      "     10\n",
      " frequent itemsets\n",
      " FALSE\n",
      "\n",
      "\n",
      "\n",
      "algorithmic control:\n",
      "\n",
      "\n",
      " sparse\n",
      " sort\n",
      " verbose\n",
      "\n",
      "\n",
      "      7\n",
      "   -2\n",
      "    TRUE\n",
      "\n",
      "\n",
      "\n",
      "Absolute minimum support count:\n",
      " \n",
      "19\n",
      " \n",
      "\n",
      "\n",
      "\n",
      "create itemset ... \n",
      "\n",
      "set transactions ...\n",
      "[32 item(s),\n",
      " 196 transaction(s)] done \n",
      "[0.00s].\n",
      "\n",
      "\n",
      "sorting and recoding items ... \n",
      "[29 item(s)] \n",
      "done [0.00s].\n",
      "\n",
      "\n",
      "creating bit matrix ... \n",
      "[29 row(s), 196 column(s)] \n",
      "done [0.00s].\n",
      "\n",
      "writing  ... \n",
      "[108 set(s)] done \n",
      "[0.00s].\n",
      "\n",
      "Creating S4 object  ... \n",
      "done \n",
      "[0.00s].\n",
      "\n",
      "--- 0.7073149681091309 seconds ---\n"
     ]
    }
   ],
   "source": [
    "import time\n",
    "start_time = time.time()\n",
    "# Create an instance of the estimator\n",
    "sbrl_model = BRLC(min_rule_len=1, max_rule_len=10, iterations=10000, n_chains=20, drop_features=True)\n",
    "# Train a model, by default discretizer is enabled. So, you wish to exclude features then exclude them using \n",
    "# the undiscretize_feature_list parameter\n",
    "\n",
    "#BRLC?\n",
    "\n",
    "model = sbrl_model.fit(Xtrain, ytrain, bin_labels=\"default\")\n",
    "print(\"--- {} seconds ---\".format(time.time() - start_time))"
   ]
  },
  {
   "cell_type": "code",
   "execution_count": 144,
   "metadata": {},
   "outputs": [
    {
     "data": {
      "text/plain": [
       "Index(['Pregnant_q_label', 'Glucose_concentration_test_q_label',\n",
       "       'Blood_pressure(mmHg)_q_label',\n",
       "       'Triceps_skin_fold_thickness(mm)_q_label',\n",
       "       '2-Hour_serum_insulin_(mu_U/ml)_q_label', 'Body_mass_index_q_label',\n",
       "       'Diabetes_pedigree_function_q_label', 'Age_(years)_q_label'],\n",
       "      dtype='object')"
      ]
     },
     "execution_count": 144,
     "metadata": {},
     "output_type": "execute_result"
    }
   ],
   "source": [
    "sbrl_model.feature_names"
   ]
  },
  {
   "cell_type": "code",
   "execution_count": 145,
   "metadata": {},
   "outputs": [
    {
     "name": "stdout",
     "output_type": "stream",
     "text": [
      "The rules list is : \n",
      "\n",
      "If      {Glucose_concentration_test_q_label=4} (rule[77]) then positive probability = 0.31724138\n",
      "\n",
      "else if {Body_mass_index_q_label=1} (rule[25]) then positive probability = 0.95384615\n",
      "\n",
      "else if {Pregnant_q_label=4,Diabetes_pedigree_function_q_label=4,Age_.years._q_label=4} (rule[103]) then positive probability = 0.07142857\n",
      "\n",
      "else if {Glucose_concentration_test_q_label=1} (rule[52]) then positive probability = 0.87096774\n",
      "\n",
      "else  (default rule)  then positive probability = 0.64321608\n",
      "\n"
     ]
    }
   ],
   "source": [
    "sbrl_model.print_model()"
   ]
  },
  {
   "cell_type": "markdown",
   "metadata": {},
   "source": [
    "### Persist the model for future use"
   ]
  },
  {
   "cell_type": "code",
   "execution_count": 146,
   "metadata": {},
   "outputs": [],
   "source": [
    "# Save the trained model as a pickled object\n",
    "sbrl_model.save_model(\"diabetes_model.pkl\", compress=True)\n",
    "\n",
    "# load the model and move ahead\n",
    "sbrl_model.load_model(\"diabetes_model.pkl\")"
   ]
  },
  {
   "cell_type": "code",
   "execution_count": 147,
   "metadata": {},
   "outputs": [
    {
     "data": {
      "text/html": [
       "<div>\n",
       "<style>\n",
       "    .dataframe thead tr:only-child th {\n",
       "        text-align: right;\n",
       "    }\n",
       "\n",
       "    .dataframe thead th {\n",
       "        text-align: left;\n",
       "    }\n",
       "\n",
       "    .dataframe tbody tr th {\n",
       "        vertical-align: top;\n",
       "    }\n",
       "</style>\n",
       "<table border=\"1\" class=\"dataframe\">\n",
       "  <thead>\n",
       "    <tr style=\"text-align: right;\">\n",
       "      <th></th>\n",
       "      <th>Pregnant_q_label</th>\n",
       "      <th>Glucose_concentration_test_q_label</th>\n",
       "      <th>Blood_pressure(mmHg)_q_label</th>\n",
       "      <th>Triceps_skin_fold_thickness(mm)_q_label</th>\n",
       "      <th>2-Hour_serum_insulin_(mu_U/ml)_q_label</th>\n",
       "      <th>Body_mass_index_q_label</th>\n",
       "      <th>Diabetes_pedigree_function_q_label</th>\n",
       "      <th>Age_(years)_q_label</th>\n",
       "    </tr>\n",
       "  </thead>\n",
       "  <tbody>\n",
       "    <tr>\n",
       "      <th>481</th>\n",
       "      <td>1</td>\n",
       "      <td>3</td>\n",
       "      <td>4</td>\n",
       "      <td>4</td>\n",
       "      <td>1</td>\n",
       "      <td>3</td>\n",
       "      <td>1</td>\n",
       "      <td>2</td>\n",
       "    </tr>\n",
       "    <tr>\n",
       "      <th>49</th>\n",
       "      <td>4</td>\n",
       "      <td>2</td>\n",
       "      <td>1</td>\n",
       "      <td>1</td>\n",
       "      <td>1</td>\n",
       "      <td>1</td>\n",
       "      <td>2</td>\n",
       "      <td>1</td>\n",
       "    </tr>\n",
       "    <tr>\n",
       "      <th>734</th>\n",
       "      <td>2</td>\n",
       "      <td>2</td>\n",
       "      <td>3</td>\n",
       "      <td>1</td>\n",
       "      <td>1</td>\n",
       "      <td>1</td>\n",
       "      <td>3</td>\n",
       "      <td>4</td>\n",
       "    </tr>\n",
       "  </tbody>\n",
       "</table>\n",
       "</div>"
      ],
      "text/plain": [
       "    Pregnant_q_label Glucose_concentration_test_q_label  \\\n",
       "481                1                                  3   \n",
       "49                 4                                  2   \n",
       "734                2                                  2   \n",
       "\n",
       "    Blood_pressure(mmHg)_q_label Triceps_skin_fold_thickness(mm)_q_label  \\\n",
       "481                            4                                       4   \n",
       "49                             1                                       1   \n",
       "734                            3                                       1   \n",
       "\n",
       "    2-Hour_serum_insulin_(mu_U/ml)_q_label Body_mass_index_q_label  \\\n",
       "481                                      1                       3   \n",
       "49                                       1                       1   \n",
       "734                                      1                       1   \n",
       "\n",
       "    Diabetes_pedigree_function_q_label Age_(years)_q_label  \n",
       "481                                  1                   2  \n",
       "49                                   2                   1  \n",
       "734                                  3                   4  "
      ]
     },
     "execution_count": 147,
     "metadata": {},
     "output_type": "execute_result"
    }
   ],
   "source": [
    "# Test set\n",
    "features_to_descritize = Xtest.columns\n",
    "Xtest_filtered = sbrl_model.discretizer(Xtest, features_to_descritize, labels_for_bin=\"default\")      \n",
    "Xtest_filtered.head(3)"
   ]
  },
  {
   "cell_type": "code",
   "execution_count": 148,
   "metadata": {},
   "outputs": [
    {
     "data": {
      "text/html": [
       "<div>\n",
       "<style>\n",
       "    .dataframe thead tr:only-child th {\n",
       "        text-align: right;\n",
       "    }\n",
       "\n",
       "    .dataframe thead th {\n",
       "        text-align: left;\n",
       "    }\n",
       "\n",
       "    .dataframe tbody tr th {\n",
       "        vertical-align: top;\n",
       "    }\n",
       "</style>\n",
       "<table border=\"1\" class=\"dataframe\">\n",
       "  <thead>\n",
       "    <tr style=\"text-align: right;\">\n",
       "      <th></th>\n",
       "      <th>Pregnant_q_label</th>\n",
       "      <th>Glucose_concentration_test_q_label</th>\n",
       "      <th>Blood_pressure(mmHg)_q_label</th>\n",
       "      <th>Triceps_skin_fold_thickness(mm)_q_label</th>\n",
       "      <th>2-Hour_serum_insulin_(mu_U/ml)_q_label</th>\n",
       "      <th>Body_mass_index_q_label</th>\n",
       "      <th>Diabetes_pedigree_function_q_label</th>\n",
       "      <th>Age_(years)_q_label</th>\n",
       "    </tr>\n",
       "  </thead>\n",
       "  <tbody>\n",
       "    <tr>\n",
       "      <th>30</th>\n",
       "      <td>3</td>\n",
       "      <td>2</td>\n",
       "      <td>3</td>\n",
       "      <td>3</td>\n",
       "      <td>1</td>\n",
       "      <td>3</td>\n",
       "      <td>3</td>\n",
       "      <td>4</td>\n",
       "    </tr>\n",
       "    <tr>\n",
       "      <th>729</th>\n",
       "      <td>2</td>\n",
       "      <td>1</td>\n",
       "      <td>1</td>\n",
       "      <td>1</td>\n",
       "      <td>1</td>\n",
       "      <td>2</td>\n",
       "      <td>1</td>\n",
       "      <td>1</td>\n",
       "    </tr>\n",
       "    <tr>\n",
       "      <th>381</th>\n",
       "      <td>1</td>\n",
       "      <td>2</td>\n",
       "      <td>2</td>\n",
       "      <td>2</td>\n",
       "      <td>1</td>\n",
       "      <td>1</td>\n",
       "      <td>1</td>\n",
       "      <td>1</td>\n",
       "    </tr>\n",
       "  </tbody>\n",
       "</table>\n",
       "</div>"
      ],
      "text/plain": [
       "    Pregnant_q_label Glucose_concentration_test_q_label  \\\n",
       "30                 3                                  2   \n",
       "729                2                                  1   \n",
       "381                1                                  2   \n",
       "\n",
       "    Blood_pressure(mmHg)_q_label Triceps_skin_fold_thickness(mm)_q_label  \\\n",
       "30                             3                                       3   \n",
       "729                            1                                       1   \n",
       "381                            2                                       2   \n",
       "\n",
       "    2-Hour_serum_insulin_(mu_U/ml)_q_label Body_mass_index_q_label  \\\n",
       "30                                       1                       3   \n",
       "729                                      1                       2   \n",
       "381                                      1                       1   \n",
       "\n",
       "    Diabetes_pedigree_function_q_label Age_(years)_q_label  \n",
       "30                                   3                   4  \n",
       "729                                  1                   1  \n",
       "381                                  1                   1  "
      ]
     },
     "execution_count": 148,
     "metadata": {},
     "output_type": "execute_result"
    }
   ],
   "source": [
    "# Train set\n",
    "features_to_descritize = Xtrain.columns\n",
    "Xtrain_filtered = sbrl_model.discretizer(Xtrain, features_to_descritize, labels_for_bin=\"default\")      \n",
    "Xtrain_filtered.head(3)"
   ]
  },
  {
   "cell_type": "code",
   "execution_count": 149,
   "metadata": {},
   "outputs": [
    {
     "name": "stdout",
     "output_type": "stream",
     "text": [
      "AUC-ROC using SBRL(Train): 0.8108418367346938\n",
      "Accuracy(Train): 0.7690972222222222\n",
      "---------------------------------\n",
      "\n",
      "AUC-ROC using SBRL(Test): 0.7623842592592593\n",
      "Accuracy(Test): 0.71875\n"
     ]
    }
   ],
   "source": [
    "results_train_sbrl = sbrl_model.predict_proba(Xtrain_filtered)\n",
    "fpr_sbrl, tpr_sbrl, thresholds_sbrl = metrics.roc_curve(ytrain, results_train_sbrl[1], pos_label=1)\n",
    "roc_auc_sbrl = metrics.auc(fpr_sbrl, tpr_sbrl)\n",
    "print(\"AUC-ROC using SBRL(Train): {}\".format(roc_auc_sbrl))\n",
    "print(\"Accuracy(Train): {}\".format(metrics.accuracy_score(ytrain, sbrl_model.predict(Xtrain_filtered)[1])))\n",
    "\n",
    "print(\"---------------------------------\\n\")\n",
    "\n",
    "results_test_sbrl = sbrl_model.predict_proba(Xtest_filtered)\n",
    "fpr_sbrl, tpr_sbrl, thresholds_sbrl = metrics.roc_curve(ytest, results_test_sbrl[1], pos_label=1)\n",
    "roc_auc_sbrl = metrics.auc(fpr_sbrl, tpr_sbrl)\n",
    "print(\"AUC-ROC using SBRL(Test): {}\".format(roc_auc_sbrl))\n",
    "print(\"Accuracy(Test): {}\".format(metrics.accuracy_score(ytest, sbrl_model.predict(Xtest_filtered)[1])))"
   ]
  },
  {
   "cell_type": "code",
   "execution_count": 150,
   "metadata": {},
   "outputs": [
    {
     "data": {
      "text/html": [
       "<div>\n",
       "<style>\n",
       "    .dataframe thead tr:only-child th {\n",
       "        text-align: right;\n",
       "    }\n",
       "\n",
       "    .dataframe thead th {\n",
       "        text-align: left;\n",
       "    }\n",
       "\n",
       "    .dataframe tbody tr th {\n",
       "        vertical-align: top;\n",
       "    }\n",
       "</style>\n",
       "<table border=\"1\" class=\"dataframe\">\n",
       "  <thead>\n",
       "    <tr style=\"text-align: right;\">\n",
       "      <th></th>\n",
       "      <th>Pregnant</th>\n",
       "      <th>Glucose_concentration_test</th>\n",
       "      <th>Blood_pressure(mmHg)</th>\n",
       "      <th>Triceps_skin_fold_thickness(mm)</th>\n",
       "      <th>2-Hour_serum_insulin_(mu_U/ml)</th>\n",
       "      <th>Body_mass_index</th>\n",
       "      <th>Diabetes_pedigree_function</th>\n",
       "      <th>Age_(years)</th>\n",
       "    </tr>\n",
       "  </thead>\n",
       "  <tbody>\n",
       "    <tr>\n",
       "      <th>0</th>\n",
       "      <td>6.0</td>\n",
       "      <td>148.0</td>\n",
       "      <td>72.0</td>\n",
       "      <td>35.0</td>\n",
       "      <td>0.0</td>\n",
       "      <td>33.599998</td>\n",
       "      <td>0.627</td>\n",
       "      <td>50.0</td>\n",
       "    </tr>\n",
       "    <tr>\n",
       "      <th>1</th>\n",
       "      <td>1.0</td>\n",
       "      <td>85.0</td>\n",
       "      <td>66.0</td>\n",
       "      <td>29.0</td>\n",
       "      <td>0.0</td>\n",
       "      <td>26.600000</td>\n",
       "      <td>0.351</td>\n",
       "      <td>31.0</td>\n",
       "    </tr>\n",
       "    <tr>\n",
       "      <th>2</th>\n",
       "      <td>8.0</td>\n",
       "      <td>183.0</td>\n",
       "      <td>64.0</td>\n",
       "      <td>0.0</td>\n",
       "      <td>0.0</td>\n",
       "      <td>23.299999</td>\n",
       "      <td>0.672</td>\n",
       "      <td>32.0</td>\n",
       "    </tr>\n",
       "    <tr>\n",
       "      <th>3</th>\n",
       "      <td>1.0</td>\n",
       "      <td>89.0</td>\n",
       "      <td>66.0</td>\n",
       "      <td>23.0</td>\n",
       "      <td>94.0</td>\n",
       "      <td>28.100000</td>\n",
       "      <td>0.167</td>\n",
       "      <td>21.0</td>\n",
       "    </tr>\n",
       "    <tr>\n",
       "      <th>4</th>\n",
       "      <td>0.0</td>\n",
       "      <td>137.0</td>\n",
       "      <td>40.0</td>\n",
       "      <td>35.0</td>\n",
       "      <td>168.0</td>\n",
       "      <td>43.099998</td>\n",
       "      <td>2.288</td>\n",
       "      <td>33.0</td>\n",
       "    </tr>\n",
       "  </tbody>\n",
       "</table>\n",
       "</div>"
      ],
      "text/plain": [
       "   Pregnant  Glucose_concentration_test  Blood_pressure(mmHg)  \\\n",
       "0       6.0                       148.0                  72.0   \n",
       "1       1.0                        85.0                  66.0   \n",
       "2       8.0                       183.0                  64.0   \n",
       "3       1.0                        89.0                  66.0   \n",
       "4       0.0                       137.0                  40.0   \n",
       "\n",
       "   Triceps_skin_fold_thickness(mm)  2-Hour_serum_insulin_(mu_U/ml)  \\\n",
       "0                             35.0                             0.0   \n",
       "1                             29.0                             0.0   \n",
       "2                              0.0                             0.0   \n",
       "3                             23.0                            94.0   \n",
       "4                             35.0                           168.0   \n",
       "\n",
       "   Body_mass_index  Diabetes_pedigree_function  Age_(years)  \n",
       "0        33.599998                       0.627         50.0  \n",
       "1        26.600000                       0.351         31.0  \n",
       "2        23.299999                       0.672         32.0  \n",
       "3        28.100000                       0.167         21.0  \n",
       "4        43.099998                       2.288         33.0  "
      ]
     },
     "execution_count": 150,
     "metadata": {},
     "output_type": "execute_result"
    }
   ],
   "source": [
    "data_df.head()"
   ]
  },
  {
   "cell_type": "code",
   "execution_count": 154,
   "metadata": {},
   "outputs": [
    {
     "name": "stdout",
     "output_type": "stream",
     "text": [
      "--- 0.15580415725708008 seconds ---\n"
     ]
    }
   ],
   "source": [
    "from sklearn.ensemble import RandomForestClassifier\n",
    "x_train, x_test, y_train, y_test = train_test_split(data_df, y)\n",
    "\n",
    "import time\n",
    "start_time = time.time()\n",
    "rf_model = RandomForestClassifier(n_estimators=100, random_state=123).fit(x_train, y_train)\n",
    "print(\"--- {} seconds ---\".format((time.time() - start_time)))\n",
    "\n",
    "\n",
    "results_test_rf = pd.DataFrame(rf_model.predict_proba(x_test))\n",
    "result_train_rf = pd.DataFrame(rf_model.predict_proba(x_train))"
   ]
  },
  {
   "cell_type": "code",
   "execution_count": 155,
   "metadata": {},
   "outputs": [
    {
     "name": "stdout",
     "output_type": "stream",
     "text": [
      "AUC-ROC using Random Forest(Train): 1.0\n",
      "Accuracy(Train): 1.0\n",
      "---------------------------------\n",
      "\n",
      "AUC-ROC using Random Forest(Test): 0.8001262626262626\n",
      "Accuracy(Test): 0.7395833333333334\n"
     ]
    }
   ],
   "source": [
    "fpr_rf, tpr_rf, thresholds_rf = metrics.roc_curve(y_train, result_train_rf[1], pos_label=1)\n",
    "roc_auc_rf = metrics.auc(fpr_rf, tpr_rf)\n",
    "print(\"AUC-ROC using Random Forest(Train): {}\".format(roc_auc_rf))\n",
    "print(\"Accuracy(Train): {}\".format(metrics.accuracy_score(y_train, rf_model.predict(x_train))))\n",
    "\n",
    "print(\"---------------------------------\\n\")\n",
    "\n",
    "fpr_rf, tpr_rf, thresholds_rf = metrics.roc_curve(y_test, results_test_rf[1], pos_label=1)\n",
    "roc_auc_rf = metrics.auc(fpr_rf, tpr_rf)\n",
    "print(\"AUC-ROC using Random Forest(Test): {}\".format(roc_auc_rf))\n",
    "print(\"Accuracy(Test): {}\".format(metrics.accuracy_score(y_test, rf_model.predict(x_test))))"
   ]
  },
  {
   "cell_type": "code",
   "execution_count": 157,
   "metadata": {},
   "outputs": [
    {
     "data": {
      "text/plain": [
       "['{Age_.years._q_label=1}',\n",
       " '{Age_.years._q_label=2}',\n",
       " '{Age_.years._q_label=3}',\n",
       " '{Age_.years._q_label=4}',\n",
       " '{Blood_pressure.mmHg._q_label=1,Age_.years._q_label=1}',\n",
       " '{Blood_pressure.mmHg._q_label=1,Body_mass_index_q_label=1}',\n",
       " '{Blood_pressure.mmHg._q_label=1,Triceps_skin_fold_thickness.mm._q_label=2}',\n",
       " '{Blood_pressure.mmHg._q_label=1,X2.Hour_serum_insulin_.mu_U.ml._q_label=3}',\n",
       " '{Blood_pressure.mmHg._q_label=1}',\n",
       " '{Blood_pressure.mmHg._q_label=2}',\n",
       " '{Blood_pressure.mmHg._q_label=3,Age_.years._q_label=4}',\n",
       " '{Blood_pressure.mmHg._q_label=3,Body_mass_index_q_label=4}',\n",
       " '{Blood_pressure.mmHg._q_label=3,Diabetes_pedigree_function_q_label=4}',\n",
       " '{Blood_pressure.mmHg._q_label=3,X2.Hour_serum_insulin_.mu_U.ml._q_label=4}',\n",
       " '{Blood_pressure.mmHg._q_label=3}',\n",
       " '{Blood_pressure.mmHg._q_label=4,Age_.years._q_label=4}',\n",
       " '{Blood_pressure.mmHg._q_label=4,Body_mass_index_q_label=3}',\n",
       " '{Blood_pressure.mmHg._q_label=4,Body_mass_index_q_label=4}',\n",
       " '{Blood_pressure.mmHg._q_label=4,Diabetes_pedigree_function_q_label=4}',\n",
       " '{Blood_pressure.mmHg._q_label=4,Triceps_skin_fold_thickness.mm._q_label=4}',\n",
       " '{Blood_pressure.mmHg._q_label=4,X2.Hour_serum_insulin_.mu_U.ml._q_label=4}',\n",
       " '{Blood_pressure.mmHg._q_label=4}',\n",
       " '{Body_mass_index_q_label=1,Age_.years._q_label=1}',\n",
       " '{Body_mass_index_q_label=1,Diabetes_pedigree_function_q_label=1}',\n",
       " '{Body_mass_index_q_label=1}',\n",
       " '{Body_mass_index_q_label=2,Age_.years._q_label=3}',\n",
       " '{Body_mass_index_q_label=2}',\n",
       " '{Body_mass_index_q_label=3,Age_.years._q_label=3}',\n",
       " '{Body_mass_index_q_label=3,Age_.years._q_label=4}',\n",
       " '{Body_mass_index_q_label=3,Diabetes_pedigree_function_q_label=4}',\n",
       " '{Body_mass_index_q_label=3}',\n",
       " '{Body_mass_index_q_label=4,Age_.years._q_label=3}',\n",
       " '{Body_mass_index_q_label=4,Age_.years._q_label=4}',\n",
       " '{Body_mass_index_q_label=4,Diabetes_pedigree_function_q_label=4}',\n",
       " '{Body_mass_index_q_label=4}',\n",
       " '{Diabetes_pedigree_function_q_label=1}',\n",
       " '{Diabetes_pedigree_function_q_label=2}',\n",
       " '{Diabetes_pedigree_function_q_label=3,Age_.years._q_label=1}',\n",
       " '{Diabetes_pedigree_function_q_label=3}',\n",
       " '{Diabetes_pedigree_function_q_label=4,Age_.years._q_label=3}',\n",
       " '{Diabetes_pedigree_function_q_label=4,Age_.years._q_label=4}',\n",
       " '{Diabetes_pedigree_function_q_label=4}',\n",
       " '{Glucose_concentration_test_q_label=1,Age_.years._q_label=1}',\n",
       " '{Glucose_concentration_test_q_label=1,Age_.years._q_label=2}',\n",
       " '{Glucose_concentration_test_q_label=1,Blood_pressure.mmHg._q_label=1}',\n",
       " '{Glucose_concentration_test_q_label=1,Blood_pressure.mmHg._q_label=2}',\n",
       " '{Glucose_concentration_test_q_label=1,Body_mass_index_q_label=1}',\n",
       " '{Glucose_concentration_test_q_label=1,Diabetes_pedigree_function_q_label=2}',\n",
       " '{Glucose_concentration_test_q_label=1,Triceps_skin_fold_thickness.mm._q_label=2}',\n",
       " '{Glucose_concentration_test_q_label=1,X2.Hour_serum_insulin_.mu_U.ml._q_label=2}',\n",
       " '{Glucose_concentration_test_q_label=1,X2.Hour_serum_insulin_.mu_U.ml._q_label=3}',\n",
       " '{Glucose_concentration_test_q_label=1}',\n",
       " '{Glucose_concentration_test_q_label=2,Body_mass_index_q_label=1}',\n",
       " '{Glucose_concentration_test_q_label=2,Diabetes_pedigree_function_q_label=1}',\n",
       " '{Glucose_concentration_test_q_label=2,Triceps_skin_fold_thickness.mm._q_label=2}',\n",
       " '{Glucose_concentration_test_q_label=2}',\n",
       " '{Glucose_concentration_test_q_label=3}',\n",
       " '{Glucose_concentration_test_q_label=4,Age_.years._q_label=3}',\n",
       " '{Glucose_concentration_test_q_label=4,Age_.years._q_label=4}',\n",
       " '{Glucose_concentration_test_q_label=4,Blood_pressure.mmHg._q_label=2}',\n",
       " '{Glucose_concentration_test_q_label=4,Blood_pressure.mmHg._q_label=3}',\n",
       " '{Glucose_concentration_test_q_label=4,Blood_pressure.mmHg._q_label=4,Age_.years._q_label=4}',\n",
       " '{Glucose_concentration_test_q_label=4,Blood_pressure.mmHg._q_label=4}',\n",
       " '{Glucose_concentration_test_q_label=4,Body_mass_index_q_label=2}',\n",
       " '{Glucose_concentration_test_q_label=4,Body_mass_index_q_label=3}',\n",
       " '{Glucose_concentration_test_q_label=4,Body_mass_index_q_label=4}',\n",
       " '{Glucose_concentration_test_q_label=4,Diabetes_pedigree_function_q_label=2}',\n",
       " '{Glucose_concentration_test_q_label=4,Diabetes_pedigree_function_q_label=3}',\n",
       " '{Glucose_concentration_test_q_label=4,Diabetes_pedigree_function_q_label=4}',\n",
       " '{Glucose_concentration_test_q_label=4,Triceps_skin_fold_thickness.mm._q_label=1}',\n",
       " '{Glucose_concentration_test_q_label=4,Triceps_skin_fold_thickness.mm._q_label=3}',\n",
       " '{Glucose_concentration_test_q_label=4,Triceps_skin_fold_thickness.mm._q_label=4,Body_mass_index_q_label=4}',\n",
       " '{Glucose_concentration_test_q_label=4,Triceps_skin_fold_thickness.mm._q_label=4,X2.Hour_serum_insulin_.mu_U.ml._q_label=4}',\n",
       " '{Glucose_concentration_test_q_label=4,Triceps_skin_fold_thickness.mm._q_label=4}',\n",
       " '{Glucose_concentration_test_q_label=4,X2.Hour_serum_insulin_.mu_U.ml._q_label=1}',\n",
       " '{Glucose_concentration_test_q_label=4,X2.Hour_serum_insulin_.mu_U.ml._q_label=4}',\n",
       " '{Glucose_concentration_test_q_label=4}',\n",
       " '{Pregnant_q_label=1,Age_.years._q_label=1}',\n",
       " '{Pregnant_q_label=1,Glucose_concentration_test_q_label=1}',\n",
       " '{Pregnant_q_label=1,Glucose_concentration_test_q_label=4}',\n",
       " '{Pregnant_q_label=1,X2.Hour_serum_insulin_.mu_U.ml._q_label=3}',\n",
       " '{Pregnant_q_label=1}',\n",
       " '{Pregnant_q_label=2,Age_.years._q_label=1}',\n",
       " '{Pregnant_q_label=2,Age_.years._q_label=2}',\n",
       " '{Pregnant_q_label=2,Blood_pressure.mmHg._q_label=1}',\n",
       " '{Pregnant_q_label=2,Body_mass_index_q_label=1}',\n",
       " '{Pregnant_q_label=2,Glucose_concentration_test_q_label=1}',\n",
       " '{Pregnant_q_label=2,Glucose_concentration_test_q_label=2}',\n",
       " '{Pregnant_q_label=2,Triceps_skin_fold_thickness.mm._q_label=2}',\n",
       " '{Pregnant_q_label=2,X2.Hour_serum_insulin_.mu_U.ml._q_label=3}',\n",
       " '{Pregnant_q_label=2}',\n",
       " '{Pregnant_q_label=3,Age_.years._q_label=3}',\n",
       " '{Pregnant_q_label=3,Glucose_concentration_test_q_label=4}',\n",
       " '{Pregnant_q_label=3}',\n",
       " '{Pregnant_q_label=4,Age_.years._q_label=3}',\n",
       " '{Pregnant_q_label=4,Age_.years._q_label=4}',\n",
       " '{Pregnant_q_label=4,Blood_pressure.mmHg._q_label=3}',\n",
       " '{Pregnant_q_label=4,Blood_pressure.mmHg._q_label=4,Age_.years._q_label=4}',\n",
       " '{Pregnant_q_label=4,Blood_pressure.mmHg._q_label=4}',\n",
       " '{Pregnant_q_label=4,Body_mass_index_q_label=2}',\n",
       " '{Pregnant_q_label=4,Body_mass_index_q_label=3}',\n",
       " '{Pregnant_q_label=4,Body_mass_index_q_label=4}',\n",
       " '{Pregnant_q_label=4,Diabetes_pedigree_function_q_label=4,Age_.years._q_label=4}',\n",
       " '{Pregnant_q_label=4,Diabetes_pedigree_function_q_label=4}',\n",
       " '{Pregnant_q_label=4,Glucose_concentration_test_q_label=4,Age_.years._q_label=4}',\n",
       " '{Pregnant_q_label=4,Glucose_concentration_test_q_label=4}',\n",
       " '{Pregnant_q_label=4,Triceps_skin_fold_thickness.mm._q_label=3}',\n",
       " '{Pregnant_q_label=4,Triceps_skin_fold_thickness.mm._q_label=4}',\n",
       " '{Pregnant_q_label=4,X2.Hour_serum_insulin_.mu_U.ml._q_label=1}',\n",
       " '{Pregnant_q_label=4,X2.Hour_serum_insulin_.mu_U.ml._q_label=2}',\n",
       " '{Pregnant_q_label=4,X2.Hour_serum_insulin_.mu_U.ml._q_label=4}',\n",
       " '{Pregnant_q_label=4}',\n",
       " '{Triceps_skin_fold_thickness.mm._q_label=1,Age_.years._q_label=4}',\n",
       " '{Triceps_skin_fold_thickness.mm._q_label=1,Body_mass_index_q_label=1}',\n",
       " '{Triceps_skin_fold_thickness.mm._q_label=1,Diabetes_pedigree_function_q_label=1}',\n",
       " '{Triceps_skin_fold_thickness.mm._q_label=1,X2.Hour_serum_insulin_.mu_U.ml._q_label=1}',\n",
       " '{Triceps_skin_fold_thickness.mm._q_label=1,X2.Hour_serum_insulin_.mu_U.ml._q_label=2}',\n",
       " '{Triceps_skin_fold_thickness.mm._q_label=1}',\n",
       " '{Triceps_skin_fold_thickness.mm._q_label=2,Age_.years._q_label=1}',\n",
       " '{Triceps_skin_fold_thickness.mm._q_label=2,Body_mass_index_q_label=1}',\n",
       " '{Triceps_skin_fold_thickness.mm._q_label=2,X2.Hour_serum_insulin_.mu_U.ml._q_label=3}',\n",
       " '{Triceps_skin_fold_thickness.mm._q_label=2}',\n",
       " '{Triceps_skin_fold_thickness.mm._q_label=3,Age_.years._q_label=4}',\n",
       " '{Triceps_skin_fold_thickness.mm._q_label=3,Body_mass_index_q_label=2}',\n",
       " '{Triceps_skin_fold_thickness.mm._q_label=3,Body_mass_index_q_label=3}',\n",
       " '{Triceps_skin_fold_thickness.mm._q_label=3,X2.Hour_serum_insulin_.mu_U.ml._q_label=4}',\n",
       " '{Triceps_skin_fold_thickness.mm._q_label=3}',\n",
       " '{Triceps_skin_fold_thickness.mm._q_label=4,Age_.years._q_label=3}',\n",
       " '{Triceps_skin_fold_thickness.mm._q_label=4,Body_mass_index_q_label=3}',\n",
       " '{Triceps_skin_fold_thickness.mm._q_label=4,Body_mass_index_q_label=4}',\n",
       " '{Triceps_skin_fold_thickness.mm._q_label=4,Diabetes_pedigree_function_q_label=4}',\n",
       " '{Triceps_skin_fold_thickness.mm._q_label=4,X2.Hour_serum_insulin_.mu_U.ml._q_label=4,Body_mass_index_q_label=4}',\n",
       " '{Triceps_skin_fold_thickness.mm._q_label=4,X2.Hour_serum_insulin_.mu_U.ml._q_label=4}',\n",
       " '{Triceps_skin_fold_thickness.mm._q_label=4}',\n",
       " '{X2.Hour_serum_insulin_.mu_U.ml._q_label=1,Age_.years._q_label=3}',\n",
       " '{X2.Hour_serum_insulin_.mu_U.ml._q_label=1,Age_.years._q_label=4}',\n",
       " '{X2.Hour_serum_insulin_.mu_U.ml._q_label=1,Body_mass_index_q_label=4}',\n",
       " '{X2.Hour_serum_insulin_.mu_U.ml._q_label=1}',\n",
       " '{X2.Hour_serum_insulin_.mu_U.ml._q_label=2,Body_mass_index_q_label=1}',\n",
       " '{X2.Hour_serum_insulin_.mu_U.ml._q_label=2}',\n",
       " '{X2.Hour_serum_insulin_.mu_U.ml._q_label=3,Age_.years._q_label=1}',\n",
       " '{X2.Hour_serum_insulin_.mu_U.ml._q_label=3,Body_mass_index_q_label=1}',\n",
       " '{X2.Hour_serum_insulin_.mu_U.ml._q_label=3}',\n",
       " '{X2.Hour_serum_insulin_.mu_U.ml._q_label=4,Age_.years._q_label=3}',\n",
       " '{X2.Hour_serum_insulin_.mu_U.ml._q_label=4,Age_.years._q_label=4}',\n",
       " '{X2.Hour_serum_insulin_.mu_U.ml._q_label=4,Body_mass_index_q_label=3}',\n",
       " '{X2.Hour_serum_insulin_.mu_U.ml._q_label=4,Body_mass_index_q_label=4}',\n",
       " '{X2.Hour_serum_insulin_.mu_U.ml._q_label=4,Diabetes_pedigree_function_q_label=3}',\n",
       " '{X2.Hour_serum_insulin_.mu_U.ml._q_label=4,Diabetes_pedigree_function_q_label=4}',\n",
       " '{X2.Hour_serum_insulin_.mu_U.ml._q_label=4}']"
      ]
     },
     "execution_count": 157,
     "metadata": {},
     "output_type": "execute_result"
    }
   ],
   "source": [
    "# access all rules, or filter rules as needed for debugging and building intuition\n",
    "sbrl_model.access_learned_rules('all')"
   ]
  },
  {
   "cell_type": "code",
   "execution_count": null,
   "metadata": {
    "collapsed": true
   },
   "outputs": [],
   "source": []
  }
 ],
 "metadata": {
  "kernelspec": {
   "display_name": "Python 3",
   "language": "python",
   "name": "python3"
  },
  "language_info": {
   "codemirror_mode": {
    "name": "ipython",
    "version": 3
   },
   "file_extension": ".py",
   "mimetype": "text/x-python",
   "name": "python",
   "nbconvert_exporter": "python",
   "pygments_lexer": "ipython3",
   "version": "3.6.3"
  }
 },
 "nbformat": 4,
 "nbformat_minor": 2
}
