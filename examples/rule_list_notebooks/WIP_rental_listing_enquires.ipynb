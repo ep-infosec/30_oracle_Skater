{
 "cells": [
  {
   "cell_type": "markdown",
   "metadata": {},
   "source": [
    "## Solving Rental Listing Inquiries"
   ]
  },
  {
   "cell_type": "markdown",
   "metadata": {},
   "source": [
    "### *Problem Statement:* \n",
    "Predicting apartment rental listing popularity based on the listing content"
   ]
  },
  {
   "cell_type": "code",
   "execution_count": 1,
   "metadata": {
    "collapsed": true
   },
   "outputs": [],
   "source": [
    "%matplotlib inline\n",
    "import warnings\n",
    "warnings.filterwarnings('ignore')\n",
    "import matplotlib.pyplot as plt\n",
    "plt.style.use('ggplot')\n",
    "# Reference for customizing plots : http://matplotlib.org/users/customizing.html\n",
    "# print(plt.style.available)\n",
    "\n",
    "import numpy as np\n",
    "import pandas as pd\n",
    "from sklearn.model_selection import train_test_split"
   ]
  },
  {
   "cell_type": "code",
   "execution_count": 2,
   "metadata": {
    "collapsed": true
   },
   "outputs": [],
   "source": [
    "# Kaggle dataset: \n",
    "# https://www.kaggle.com/c/two-sigma-connect-rental-listing-inquiries/data\n",
    "\n",
    "### Loading the dataset provided\n",
    "df_train = pd.read_json('../../../random/data/rental_listing/train.json')\n",
    "df_test = pd.read_json('../../../random/data/rental_listing/test.json')"
   ]
  },
  {
   "cell_type": "code",
   "execution_count": 3,
   "metadata": {},
   "outputs": [
    {
     "data": {
      "text/html": [
       "<div>\n",
       "<style scoped>\n",
       "    .dataframe tbody tr th:only-of-type {\n",
       "        vertical-align: middle;\n",
       "    }\n",
       "\n",
       "    .dataframe tbody tr th {\n",
       "        vertical-align: top;\n",
       "    }\n",
       "\n",
       "    .dataframe thead th {\n",
       "        text-align: right;\n",
       "    }\n",
       "</style>\n",
       "<table border=\"1\" class=\"dataframe\">\n",
       "  <thead>\n",
       "    <tr style=\"text-align: right;\">\n",
       "      <th></th>\n",
       "      <th>bathrooms</th>\n",
       "      <th>bedrooms</th>\n",
       "      <th>building_id</th>\n",
       "      <th>created</th>\n",
       "      <th>description</th>\n",
       "      <th>display_address</th>\n",
       "      <th>features</th>\n",
       "      <th>latitude</th>\n",
       "      <th>listing_id</th>\n",
       "      <th>longitude</th>\n",
       "      <th>manager_id</th>\n",
       "      <th>photos</th>\n",
       "      <th>price</th>\n",
       "      <th>street_address</th>\n",
       "      <th>interest_level</th>\n",
       "    </tr>\n",
       "  </thead>\n",
       "  <tbody>\n",
       "    <tr>\n",
       "      <th>10</th>\n",
       "      <td>1.5</td>\n",
       "      <td>3</td>\n",
       "      <td>53a5b119ba8f7b61d4e010512e0dfc85</td>\n",
       "      <td>2016-06-24 07:54:24</td>\n",
       "      <td>A Brand New 3 Bedroom 1.5 bath ApartmentEnjoy ...</td>\n",
       "      <td>Metropolitan Avenue</td>\n",
       "      <td>[]</td>\n",
       "      <td>40.7145</td>\n",
       "      <td>7211212</td>\n",
       "      <td>-73.9425</td>\n",
       "      <td>5ba989232d0489da1b5f2c45f6688adc</td>\n",
       "      <td>[https://photos.renthop.com/2/7211212_1ed4542e...</td>\n",
       "      <td>3000</td>\n",
       "      <td>792 Metropolitan Avenue</td>\n",
       "      <td>medium</td>\n",
       "    </tr>\n",
       "    <tr>\n",
       "      <th>10000</th>\n",
       "      <td>1.0</td>\n",
       "      <td>2</td>\n",
       "      <td>c5c8a357cba207596b04d1afd1e4f130</td>\n",
       "      <td>2016-06-12 12:19:27</td>\n",
       "      <td></td>\n",
       "      <td>Columbus Avenue</td>\n",
       "      <td>[Doorman, Elevator, Fitness Center, Cats Allow...</td>\n",
       "      <td>40.7947</td>\n",
       "      <td>7150865</td>\n",
       "      <td>-73.9667</td>\n",
       "      <td>7533621a882f71e25173b27e3139d83d</td>\n",
       "      <td>[https://photos.renthop.com/2/7150865_be3306c5...</td>\n",
       "      <td>5465</td>\n",
       "      <td>808 Columbus Avenue</td>\n",
       "      <td>low</td>\n",
       "    </tr>\n",
       "    <tr>\n",
       "      <th>100004</th>\n",
       "      <td>1.0</td>\n",
       "      <td>1</td>\n",
       "      <td>c3ba40552e2120b0acfc3cb5730bb2aa</td>\n",
       "      <td>2016-04-17 03:26:41</td>\n",
       "      <td>Top Top West Village location, beautiful Pre-w...</td>\n",
       "      <td>W 13 Street</td>\n",
       "      <td>[Laundry In Building, Dishwasher, Hardwood Flo...</td>\n",
       "      <td>40.7388</td>\n",
       "      <td>6887163</td>\n",
       "      <td>-74.0018</td>\n",
       "      <td>d9039c43983f6e564b1482b273bd7b01</td>\n",
       "      <td>[https://photos.renthop.com/2/6887163_de85c427...</td>\n",
       "      <td>2850</td>\n",
       "      <td>241 W 13 Street</td>\n",
       "      <td>high</td>\n",
       "    </tr>\n",
       "    <tr>\n",
       "      <th>100007</th>\n",
       "      <td>1.0</td>\n",
       "      <td>1</td>\n",
       "      <td>28d9ad350afeaab8027513a3e52ac8d5</td>\n",
       "      <td>2016-04-18 02:22:02</td>\n",
       "      <td>Building Amenities - Garage - Garden - fitness...</td>\n",
       "      <td>East 49th Street</td>\n",
       "      <td>[Hardwood Floors, No Fee]</td>\n",
       "      <td>40.7539</td>\n",
       "      <td>6888711</td>\n",
       "      <td>-73.9677</td>\n",
       "      <td>1067e078446a7897d2da493d2f741316</td>\n",
       "      <td>[https://photos.renthop.com/2/6888711_6e660cee...</td>\n",
       "      <td>3275</td>\n",
       "      <td>333 East 49th Street</td>\n",
       "      <td>low</td>\n",
       "    </tr>\n",
       "    <tr>\n",
       "      <th>100013</th>\n",
       "      <td>1.0</td>\n",
       "      <td>4</td>\n",
       "      <td>0</td>\n",
       "      <td>2016-04-28 01:32:41</td>\n",
       "      <td>Beautifully renovated 3 bedroom flex 4 bedroom...</td>\n",
       "      <td>West 143rd Street</td>\n",
       "      <td>[Pre-War]</td>\n",
       "      <td>40.8241</td>\n",
       "      <td>6934781</td>\n",
       "      <td>-73.9493</td>\n",
       "      <td>98e13ad4b495b9613cef886d79a6291f</td>\n",
       "      <td>[https://photos.renthop.com/2/6934781_1fa4b41a...</td>\n",
       "      <td>3350</td>\n",
       "      <td>500 West 143rd Street</td>\n",
       "      <td>low</td>\n",
       "    </tr>\n",
       "  </tbody>\n",
       "</table>\n",
       "</div>"
      ],
      "text/plain": [
       "        bathrooms  bedrooms                       building_id  \\\n",
       "10            1.5         3  53a5b119ba8f7b61d4e010512e0dfc85   \n",
       "10000         1.0         2  c5c8a357cba207596b04d1afd1e4f130   \n",
       "100004        1.0         1  c3ba40552e2120b0acfc3cb5730bb2aa   \n",
       "100007        1.0         1  28d9ad350afeaab8027513a3e52ac8d5   \n",
       "100013        1.0         4                                 0   \n",
       "\n",
       "                    created  \\\n",
       "10      2016-06-24 07:54:24   \n",
       "10000   2016-06-12 12:19:27   \n",
       "100004  2016-04-17 03:26:41   \n",
       "100007  2016-04-18 02:22:02   \n",
       "100013  2016-04-28 01:32:41   \n",
       "\n",
       "                                              description  \\\n",
       "10      A Brand New 3 Bedroom 1.5 bath ApartmentEnjoy ...   \n",
       "10000                                                       \n",
       "100004  Top Top West Village location, beautiful Pre-w...   \n",
       "100007  Building Amenities - Garage - Garden - fitness...   \n",
       "100013  Beautifully renovated 3 bedroom flex 4 bedroom...   \n",
       "\n",
       "            display_address  \\\n",
       "10      Metropolitan Avenue   \n",
       "10000       Columbus Avenue   \n",
       "100004          W 13 Street   \n",
       "100007     East 49th Street   \n",
       "100013    West 143rd Street   \n",
       "\n",
       "                                                 features  latitude  \\\n",
       "10                                                     []   40.7145   \n",
       "10000   [Doorman, Elevator, Fitness Center, Cats Allow...   40.7947   \n",
       "100004  [Laundry In Building, Dishwasher, Hardwood Flo...   40.7388   \n",
       "100007                          [Hardwood Floors, No Fee]   40.7539   \n",
       "100013                                          [Pre-War]   40.8241   \n",
       "\n",
       "        listing_id  longitude                        manager_id  \\\n",
       "10         7211212   -73.9425  5ba989232d0489da1b5f2c45f6688adc   \n",
       "10000      7150865   -73.9667  7533621a882f71e25173b27e3139d83d   \n",
       "100004     6887163   -74.0018  d9039c43983f6e564b1482b273bd7b01   \n",
       "100007     6888711   -73.9677  1067e078446a7897d2da493d2f741316   \n",
       "100013     6934781   -73.9493  98e13ad4b495b9613cef886d79a6291f   \n",
       "\n",
       "                                                   photos  price  \\\n",
       "10      [https://photos.renthop.com/2/7211212_1ed4542e...   3000   \n",
       "10000   [https://photos.renthop.com/2/7150865_be3306c5...   5465   \n",
       "100004  [https://photos.renthop.com/2/6887163_de85c427...   2850   \n",
       "100007  [https://photos.renthop.com/2/6888711_6e660cee...   3275   \n",
       "100013  [https://photos.renthop.com/2/6934781_1fa4b41a...   3350   \n",
       "\n",
       "                 street_address interest_level  \n",
       "10      792 Metropolitan Avenue         medium  \n",
       "10000       808 Columbus Avenue            low  \n",
       "100004          241 W 13 Street           high  \n",
       "100007     333 East 49th Street            low  \n",
       "100013    500 West 143rd Street            low  "
      ]
     },
     "execution_count": 3,
     "metadata": {},
     "output_type": "execute_result"
    }
   ],
   "source": [
    "df_train.head()"
   ]
  },
  {
   "cell_type": "code",
   "execution_count": 4,
   "metadata": {},
   "outputs": [
    {
     "name": "stdout",
     "output_type": "stream",
     "text": [
      "Number of rows in Train: (49352, 22)\n",
      "Number of rows in Test: (74659, 21)\n"
     ]
    }
   ],
   "source": [
    "# Train\n",
    "df_train[\"no_photos\"] = df_train[\"photos\"].apply(len)\n",
    "df_train[\"no_features\"] = df_train[\"features\"].apply(len)\n",
    "df_train[\"created_transformed\"] = pd.to_datetime(df_train[\"created\"])\n",
    "df_train[\"created_yr\"] = df_train[\"created_transformed\"].dt.year\n",
    "df_train[\"created_day\"] = df_train[\"created_transformed\"].dt.day\n",
    "df_train[\"created_month\"] = df_train[\"created_transformed\"].dt.month\n",
    "df_train['created_month_YrMnth'] = 100*df_train[\"created_yr\"] + df_train[\"created_month\"]\n",
    "\n",
    "# Test\n",
    "df_test[\"no_photos\"] = df_test[\"photos\"].apply(len)\n",
    "df_test[\"no_features\"] = df_test[\"features\"].apply(len)\n",
    "df_test[\"created_transformed\"] = pd.to_datetime(df_test[\"created\"])\n",
    "df_test[\"created_yr\"] = df_test[\"created_transformed\"].dt.year\n",
    "df_test[\"created_day\"] = df_test[\"created_transformed\"].dt.day\n",
    "df_test[\"created_month\"] = df_test[\"created_transformed\"].dt.month\n",
    "df_test['created_month_YrMnth'] = 100*df_test[\"created_yr\"] + df_test[\"created_month\"]\n",
    "\n",
    "print(\"Number of rows in Train: {}\".format(df_train.shape))\n",
    "print(\"Number of rows in Test: {}\".format(df_test.shape))"
   ]
  },
  {
   "cell_type": "code",
   "execution_count": 5,
   "metadata": {},
   "outputs": [
    {
     "data": {
      "text/html": [
       "<div>\n",
       "<style scoped>\n",
       "    .dataframe tbody tr th:only-of-type {\n",
       "        vertical-align: middle;\n",
       "    }\n",
       "\n",
       "    .dataframe tbody tr th {\n",
       "        vertical-align: top;\n",
       "    }\n",
       "\n",
       "    .dataframe thead th {\n",
       "        text-align: right;\n",
       "    }\n",
       "</style>\n",
       "<table border=\"1\" class=\"dataframe\">\n",
       "  <thead>\n",
       "    <tr style=\"text-align: right;\">\n",
       "      <th></th>\n",
       "      <th>bathrooms</th>\n",
       "      <th>bedrooms</th>\n",
       "      <th>building_id</th>\n",
       "      <th>created</th>\n",
       "      <th>description</th>\n",
       "      <th>display_address</th>\n",
       "      <th>features</th>\n",
       "      <th>latitude</th>\n",
       "      <th>listing_id</th>\n",
       "      <th>longitude</th>\n",
       "      <th>...</th>\n",
       "      <th>price</th>\n",
       "      <th>street_address</th>\n",
       "      <th>interest_level</th>\n",
       "      <th>no_photos</th>\n",
       "      <th>no_features</th>\n",
       "      <th>created_transformed</th>\n",
       "      <th>created_yr</th>\n",
       "      <th>created_day</th>\n",
       "      <th>created_month</th>\n",
       "      <th>created_month_YrMnth</th>\n",
       "    </tr>\n",
       "  </thead>\n",
       "  <tbody>\n",
       "    <tr>\n",
       "      <th>10</th>\n",
       "      <td>1.5</td>\n",
       "      <td>3</td>\n",
       "      <td>53a5b119ba8f7b61d4e010512e0dfc85</td>\n",
       "      <td>2016-06-24 07:54:24</td>\n",
       "      <td>A Brand New 3 Bedroom 1.5 bath ApartmentEnjoy ...</td>\n",
       "      <td>Metropolitan Avenue</td>\n",
       "      <td>[]</td>\n",
       "      <td>40.7145</td>\n",
       "      <td>7211212</td>\n",
       "      <td>-73.9425</td>\n",
       "      <td>...</td>\n",
       "      <td>3000</td>\n",
       "      <td>792 Metropolitan Avenue</td>\n",
       "      <td>medium</td>\n",
       "      <td>5</td>\n",
       "      <td>0</td>\n",
       "      <td>2016-06-24 07:54:24</td>\n",
       "      <td>2016</td>\n",
       "      <td>24</td>\n",
       "      <td>6</td>\n",
       "      <td>201606</td>\n",
       "    </tr>\n",
       "    <tr>\n",
       "      <th>10000</th>\n",
       "      <td>1.0</td>\n",
       "      <td>2</td>\n",
       "      <td>c5c8a357cba207596b04d1afd1e4f130</td>\n",
       "      <td>2016-06-12 12:19:27</td>\n",
       "      <td></td>\n",
       "      <td>Columbus Avenue</td>\n",
       "      <td>[Doorman, Elevator, Fitness Center, Cats Allow...</td>\n",
       "      <td>40.7947</td>\n",
       "      <td>7150865</td>\n",
       "      <td>-73.9667</td>\n",
       "      <td>...</td>\n",
       "      <td>5465</td>\n",
       "      <td>808 Columbus Avenue</td>\n",
       "      <td>low</td>\n",
       "      <td>11</td>\n",
       "      <td>5</td>\n",
       "      <td>2016-06-12 12:19:27</td>\n",
       "      <td>2016</td>\n",
       "      <td>12</td>\n",
       "      <td>6</td>\n",
       "      <td>201606</td>\n",
       "    </tr>\n",
       "    <tr>\n",
       "      <th>100004</th>\n",
       "      <td>1.0</td>\n",
       "      <td>1</td>\n",
       "      <td>c3ba40552e2120b0acfc3cb5730bb2aa</td>\n",
       "      <td>2016-04-17 03:26:41</td>\n",
       "      <td>Top Top West Village location, beautiful Pre-w...</td>\n",
       "      <td>W 13 Street</td>\n",
       "      <td>[Laundry In Building, Dishwasher, Hardwood Flo...</td>\n",
       "      <td>40.7388</td>\n",
       "      <td>6887163</td>\n",
       "      <td>-74.0018</td>\n",
       "      <td>...</td>\n",
       "      <td>2850</td>\n",
       "      <td>241 W 13 Street</td>\n",
       "      <td>high</td>\n",
       "      <td>8</td>\n",
       "      <td>4</td>\n",
       "      <td>2016-04-17 03:26:41</td>\n",
       "      <td>2016</td>\n",
       "      <td>17</td>\n",
       "      <td>4</td>\n",
       "      <td>201604</td>\n",
       "    </tr>\n",
       "    <tr>\n",
       "      <th>100007</th>\n",
       "      <td>1.0</td>\n",
       "      <td>1</td>\n",
       "      <td>28d9ad350afeaab8027513a3e52ac8d5</td>\n",
       "      <td>2016-04-18 02:22:02</td>\n",
       "      <td>Building Amenities - Garage - Garden - fitness...</td>\n",
       "      <td>East 49th Street</td>\n",
       "      <td>[Hardwood Floors, No Fee]</td>\n",
       "      <td>40.7539</td>\n",
       "      <td>6888711</td>\n",
       "      <td>-73.9677</td>\n",
       "      <td>...</td>\n",
       "      <td>3275</td>\n",
       "      <td>333 East 49th Street</td>\n",
       "      <td>low</td>\n",
       "      <td>3</td>\n",
       "      <td>2</td>\n",
       "      <td>2016-04-18 02:22:02</td>\n",
       "      <td>2016</td>\n",
       "      <td>18</td>\n",
       "      <td>4</td>\n",
       "      <td>201604</td>\n",
       "    </tr>\n",
       "    <tr>\n",
       "      <th>100013</th>\n",
       "      <td>1.0</td>\n",
       "      <td>4</td>\n",
       "      <td>0</td>\n",
       "      <td>2016-04-28 01:32:41</td>\n",
       "      <td>Beautifully renovated 3 bedroom flex 4 bedroom...</td>\n",
       "      <td>West 143rd Street</td>\n",
       "      <td>[Pre-War]</td>\n",
       "      <td>40.8241</td>\n",
       "      <td>6934781</td>\n",
       "      <td>-73.9493</td>\n",
       "      <td>...</td>\n",
       "      <td>3350</td>\n",
       "      <td>500 West 143rd Street</td>\n",
       "      <td>low</td>\n",
       "      <td>3</td>\n",
       "      <td>1</td>\n",
       "      <td>2016-04-28 01:32:41</td>\n",
       "      <td>2016</td>\n",
       "      <td>28</td>\n",
       "      <td>4</td>\n",
       "      <td>201604</td>\n",
       "    </tr>\n",
       "  </tbody>\n",
       "</table>\n",
       "<p>5 rows × 22 columns</p>\n",
       "</div>"
      ],
      "text/plain": [
       "        bathrooms  bedrooms                       building_id  \\\n",
       "10            1.5         3  53a5b119ba8f7b61d4e010512e0dfc85   \n",
       "10000         1.0         2  c5c8a357cba207596b04d1afd1e4f130   \n",
       "100004        1.0         1  c3ba40552e2120b0acfc3cb5730bb2aa   \n",
       "100007        1.0         1  28d9ad350afeaab8027513a3e52ac8d5   \n",
       "100013        1.0         4                                 0   \n",
       "\n",
       "                    created  \\\n",
       "10      2016-06-24 07:54:24   \n",
       "10000   2016-06-12 12:19:27   \n",
       "100004  2016-04-17 03:26:41   \n",
       "100007  2016-04-18 02:22:02   \n",
       "100013  2016-04-28 01:32:41   \n",
       "\n",
       "                                              description  \\\n",
       "10      A Brand New 3 Bedroom 1.5 bath ApartmentEnjoy ...   \n",
       "10000                                                       \n",
       "100004  Top Top West Village location, beautiful Pre-w...   \n",
       "100007  Building Amenities - Garage - Garden - fitness...   \n",
       "100013  Beautifully renovated 3 bedroom flex 4 bedroom...   \n",
       "\n",
       "            display_address  \\\n",
       "10      Metropolitan Avenue   \n",
       "10000       Columbus Avenue   \n",
       "100004          W 13 Street   \n",
       "100007     East 49th Street   \n",
       "100013    West 143rd Street   \n",
       "\n",
       "                                                 features  latitude  \\\n",
       "10                                                     []   40.7145   \n",
       "10000   [Doorman, Elevator, Fitness Center, Cats Allow...   40.7947   \n",
       "100004  [Laundry In Building, Dishwasher, Hardwood Flo...   40.7388   \n",
       "100007                          [Hardwood Floors, No Fee]   40.7539   \n",
       "100013                                          [Pre-War]   40.8241   \n",
       "\n",
       "        listing_id  longitude          ...          price  \\\n",
       "10         7211212   -73.9425          ...           3000   \n",
       "10000      7150865   -73.9667          ...           5465   \n",
       "100004     6887163   -74.0018          ...           2850   \n",
       "100007     6888711   -73.9677          ...           3275   \n",
       "100013     6934781   -73.9493          ...           3350   \n",
       "\n",
       "                 street_address  interest_level no_photos no_features  \\\n",
       "10      792 Metropolitan Avenue          medium         5           0   \n",
       "10000       808 Columbus Avenue             low        11           5   \n",
       "100004          241 W 13 Street            high         8           4   \n",
       "100007     333 East 49th Street             low         3           2   \n",
       "100013    500 West 143rd Street             low         3           1   \n",
       "\n",
       "        created_transformed  created_yr created_day  created_month  \\\n",
       "10      2016-06-24 07:54:24        2016          24              6   \n",
       "10000   2016-06-12 12:19:27        2016          12              6   \n",
       "100004  2016-04-17 03:26:41        2016          17              4   \n",
       "100007  2016-04-18 02:22:02        2016          18              4   \n",
       "100013  2016-04-28 01:32:41        2016          28              4   \n",
       "\n",
       "        created_month_YrMnth  \n",
       "10                    201606  \n",
       "10000                 201606  \n",
       "100004                201604  \n",
       "100007                201604  \n",
       "100013                201604  \n",
       "\n",
       "[5 rows x 22 columns]"
      ]
     },
     "execution_count": 5,
     "metadata": {},
     "output_type": "execute_result"
    }
   ],
   "source": [
    "df_train.head()"
   ]
  },
  {
   "cell_type": "code",
   "execution_count": 6,
   "metadata": {},
   "outputs": [
    {
     "data": {
      "text/plain": [
       "Index(['bathrooms', 'bedrooms', 'building_id', 'created', 'description',\n",
       "       'display_address', 'features', 'latitude', 'listing_id', 'longitude',\n",
       "       'manager_id', 'photos', 'price', 'street_address', 'interest_level',\n",
       "       'no_photos', 'no_features', 'created_transformed', 'created_yr',\n",
       "       'created_day', 'created_month', 'created_month_YrMnth'],\n",
       "      dtype='object')"
      ]
     },
     "execution_count": 6,
     "metadata": {},
     "output_type": "execute_result"
    }
   ],
   "source": [
    "df_train.columns"
   ]
  },
  {
   "cell_type": "code",
   "execution_count": 7,
   "metadata": {},
   "outputs": [
    {
     "name": "stdout",
     "output_type": "stream",
     "text": [
      "Number of class types\n"
     ]
    },
    {
     "data": {
      "text/plain": [
       "array(['high', 'low', 'medium'], dtype=object)"
      ]
     },
     "execution_count": 7,
     "metadata": {},
     "output_type": "execute_result"
    }
   ],
   "source": [
    "print(\"Number of class types\")\n",
    "np.unique(df_train['interest_level'])"
   ]
  },
  {
   "cell_type": "code",
   "execution_count": 8,
   "metadata": {
    "collapsed": true
   },
   "outputs": [],
   "source": [
    "# Starting with numerical features first\n",
    "features_considered = ['bathrooms', 'bedrooms', 'latitude', 'longitude', 'price', \n",
    "                       'no_photos', 'no_features', 'created_yr', 'created_day', 'created_month', \n",
    "                       'created_month_YrMnth']"
   ]
  },
  {
   "cell_type": "code",
   "execution_count": 9,
   "metadata": {},
   "outputs": [
    {
     "name": "stdout",
     "output_type": "stream",
     "text": [
      "Converted Labels: [0 1 2]\n"
     ]
    }
   ],
   "source": [
    "X = df_train[features_considered]\n",
    "# Converting 'str' class labels to numeric labels\n",
    "y = df_train['interest_level'].astype('category').cat.codes\n",
    "print(\"Converted Labels: {}\".format(np.unique(y)))"
   ]
  },
  {
   "cell_type": "code",
   "execution_count": 10,
   "metadata": {
    "collapsed": true
   },
   "outputs": [],
   "source": [
    "X_train, X_val, y_train, y_val = train_test_split(X, y, shuffle=True, stratify=y, test_size=0.30, random_state=42)"
   ]
  },
  {
   "cell_type": "code",
   "execution_count": 11,
   "metadata": {
    "collapsed": true
   },
   "outputs": [],
   "source": [
    "import xgboost as xgb\n",
    "gbm = xgb.XGBClassifier(max_depth=8, n_estimators=500, learning_rate=0.1, n_jobs=-1).fit(X_train, y_train)"
   ]
  },
  {
   "cell_type": "code",
   "execution_count": 12,
   "metadata": {},
   "outputs": [
    {
     "name": "stderr",
     "output_type": "stream",
     "text": [
      "/home/ubuntu/anaconda3/lib/python3.6/site-packages/sklearn/preprocessing/label.py:151: DeprecationWarning: The truth value of an empty array is ambiguous. Returning False, but in future this will result in an error. Use `array.size > 0` to check that an array is not empty.\n",
      "  if diff:\n",
      "/home/ubuntu/anaconda3/lib/python3.6/site-packages/sklearn/preprocessing/label.py:151: DeprecationWarning: The truth value of an empty array is ambiguous. Returning False, but in future this will result in an error. Use `array.size > 0` to check that an array is not empty.\n",
      "  if diff:\n"
     ]
    }
   ],
   "source": [
    "y_hat_train = gbm.predict(X_train)\n",
    "y_hat_val = gbm.predict(X_val)"
   ]
  },
  {
   "cell_type": "markdown",
   "metadata": {
    "collapsed": true
   },
   "source": [
    "## Evaluation"
   ]
  },
  {
   "cell_type": "code",
   "execution_count": 13,
   "metadata": {},
   "outputs": [
    {
     "name": "stdout",
     "output_type": "stream",
     "text": [
      "\n",
      "--------Train dataset classification report----------\n",
      "\n",
      "             precision    recall  f1-score   support\n",
      "\n",
      "       high       0.98      0.85      0.91      2687\n",
      "        low       0.92      0.99      0.95     23999\n",
      "     medium       0.93      0.76      0.84      7860\n",
      "\n",
      "avg / total       0.93      0.92      0.92     34546\n",
      "\n",
      "\n",
      "--------Validation/Holdout dataset classification report----------\n",
      "\n",
      "             precision    recall  f1-score   support\n",
      "\n",
      "       high       0.49      0.26      0.34      1152\n",
      "        low       0.79      0.90      0.84     10285\n",
      "     medium       0.45      0.33      0.38      3369\n",
      "\n",
      "avg / total       0.69      0.72      0.70     14806\n",
      "\n"
     ]
    }
   ],
   "source": [
    "from sklearn.metrics import classification_report\n",
    "\n",
    "print(\"\\n--------Train dataset classification report----------\\n\")\n",
    "target_names = ['high', 'low', 'medium']\n",
    "print(classification_report(y_train, y_hat_train, target_names=target_names))\n",
    "\n",
    "print(\"\\n--------Validation/Holdout dataset classification report----------\\n\")\n",
    "print(classification_report(y_val, y_hat_val, target_names=target_names))"
   ]
  },
  {
   "cell_type": "markdown",
   "metadata": {},
   "source": [
    "## Using Skater to understand decision policies"
   ]
  },
  {
   "cell_type": "markdown",
   "metadata": {},
   "source": [
    "#### 1. Visualizing decision boundaries"
   ]
  },
  {
   "cell_type": "code",
   "execution_count": null,
   "metadata": {
    "collapsed": true
   },
   "outputs": [],
   "source": [
    "%matplotlib inline\n",
    "from skater.core.visualizer import decision_boundary as db\n",
    "_, _ = db.plot_decision_boundary(gbm, X0=X_train.iloc[:, 1], X1=X_train.iloc[:, 5], \n",
    "                                 x0_label=features_considered[0], x1_label=features_considered[5],\n",
    "                                 Y=y_train, mode='interactive', height=6, width=10, file_name='iplot')"
   ]
  },
  {
   "cell_type": "markdown",
   "metadata": {},
   "source": [
    "#### 2. Generating Explanation using Tree Surrogates"
   ]
  },
  {
   "cell_type": "code",
   "execution_count": 14,
   "metadata": {
    "collapsed": true
   },
   "outputs": [],
   "source": [
    "from skater.core.explanations import Interpretation\n",
    "from skater.model import InMemoryModel\n",
    "from skater.util.dataops import show_in_notebook\n",
    "from skater.util.logger import _INFO\n",
    "\n",
    "\n",
    "interpreter = Interpretation(X_train, feature_names=features_considered)\n",
    "model_inst = InMemoryModel(gbm.predict, examples=X_train, model_type='classifier', unique_values=[0, 1, 2],\n",
    "                           feature_names=features_considered, target_names=['0', '1', '2'], log_level=_INFO)"
   ]
  },
  {
   "cell_type": "code",
   "execution_count": 15,
   "metadata": {},
   "outputs": [
    {
     "name": "stderr",
     "output_type": "stream",
     "text": [
      "2018-09-24 01:59:47,755 - skater.core.global_interpretation.tree_surrogate - INFO - No pruning applied ...\n",
      "2018-09-24 01:59:47,958 - skater.core.global_interpretation.tree_surrogate - INFO - Done generating prediction using the surrogate, shape (34546,)\n",
      "2018-09-24 01:59:47,970 - skater.core.global_interpretation.tree_surrogate - INFO - Done scoring, surrogate score 1.0; oracle score 0.922\n"
     ]
    },
    {
     "data": {
      "text/plain": [
       "-0.078"
      ]
     },
     "execution_count": 15,
     "metadata": {},
     "output_type": "execute_result"
    }
   ],
   "source": [
    "surrogate_explainer = interpreter.tree_surrogate(oracle=model_inst, class_weight=\"balanced\", seed=5)\n",
    "surrogate_explainer.fit(X_train, y_train, use_oracle=True, prune=None, scorer_type='default')"
   ]
  },
  {
   "cell_type": "code",
   "execution_count": 16,
   "metadata": {},
   "outputs": [
    {
     "name": "stdout",
     "output_type": "stream",
     "text": [
      "\n",
      "--------Validation/Holdout dataset classification report----------\n",
      "\n",
      "             precision    recall  f1-score   support\n",
      "\n",
      "    class 0       0.32      0.26      0.29      1152\n",
      "    class 1       0.78      0.84      0.81     10285\n",
      "    class 2       0.38      0.31      0.34      3369\n",
      "\n",
      "avg / total       0.65      0.68      0.66     14806\n",
      "\n"
     ]
    }
   ],
   "source": [
    "y_hat = surrogate_explainer.predict(X_val)\n",
    "print(\"\\n--------Validation/Holdout dataset classification report----------\\n\")\n",
    "target_names = ['class 0', 'class 1', 'class 2']\n",
    "print(classification_report(y_val, y_hat, target_names=target_names))"
   ]
  },
  {
   "cell_type": "code",
   "execution_count": 17,
   "metadata": {
    "collapsed": true
   },
   "outputs": [],
   "source": [
    "%matplotlib inline\n",
    "surrogate_explainer.plot_global_decisions(colors=['lightsteelblue', 'darkkhaki', 'aquamarine'], \n",
    "                                          file_name='surrogate_tree_rental_no_prune.png', show_img=False)"
   ]
  },
  {
   "cell_type": "code",
   "execution_count": 18,
   "metadata": {},
   "outputs": [
    {
     "name": "stderr",
     "output_type": "stream",
     "text": [
      "2018-09-24 02:00:01,218 - skater.util.dataops - INFO - File Name: surrogate_tree_rental_no_prune.png\n"
     ]
    },
    {
     "data": {
      "image/png": "",
      "text/plain": [
       "<IPython.core.display.Image object>"
      ]
     },
     "metadata": {
      "image/png": {
       "height": 400,
       "width": 400
      }
     },
     "output_type": "display_data"
    }
   ],
   "source": [
    "show_in_notebook('surrogate_tree_rental_no_prune.png', width=400, height=400)"
   ]
  },
  {
   "cell_type": "code",
   "execution_count": 20,
   "metadata": {
    "collapsed": true
   },
   "outputs": [],
   "source": [
    "# The interactiveness is not that impressive, more works needs to be done there. \n",
    "# This is just a temporary solution\n",
    "show_in_notebook('surrogate_tree_rental_no_prune.png', width=900, height=400 , mode='interactive')"
   ]
  },
  {
   "cell_type": "code",
   "execution_count": null,
   "metadata": {
    "collapsed": true
   },
   "outputs": [],
   "source": [
    "# params = {\"criterion\": ['gini', 'entropy'], \"min_samples_leaf\": [2, 4],\n",
    "# \"max_leaf_nodes\": [2, 4, 6, 8, 10], \"max_depth\": [4, 6, 10, 14, 18]\n",
    "# }\n",
    "\n",
    "surrogate_explainer.fit(X_train, y_train, use_oracle=True, prune='pre', scorer_type='default')"
   ]
  },
  {
   "cell_type": "code",
   "execution_count": null,
   "metadata": {
    "collapsed": true
   },
   "outputs": [],
   "source": [
    "surrogate_explainer.plot_global_decisions(colors=['lightsteelblue', 'darkkhaki', 'aquamarine'], \n",
    "                                          file_name='surrogate_tree_rental_pruned.png', show_img=False)"
   ]
  },
  {
   "cell_type": "code",
   "execution_count": null,
   "metadata": {
    "collapsed": true
   },
   "outputs": [],
   "source": [
    "show_in_notebook('surrogate_tree_rental_pruned.png', width=400, height=400)"
   ]
  },
  {
   "cell_type": "code",
   "execution_count": null,
   "metadata": {
    "collapsed": true
   },
   "outputs": [],
   "source": [
    "y_hat_val = surrogate_explainer.predict(X_val)\n",
    "print(\"\\n--------Validation/Holdout dataset classification report----------\\n\")\n",
    "print(classification_report(y_val, y_hat_val, target_names=target_names))"
   ]
  },
  {
   "cell_type": "code",
   "execution_count": null,
   "metadata": {
    "collapsed": true
   },
   "outputs": [],
   "source": [
    "surrogate_explainer2 = interpreter.tree_surrogate(oracle=model_inst, class_weight=\"balanced\", seed=5)\n",
    "surrogate_explainer2.fit(X_train, y_train, use_oracle=True, prune=None, scorer_type='default')"
   ]
  },
  {
   "cell_type": "code",
   "execution_count": null,
   "metadata": {
    "collapsed": true
   },
   "outputs": [],
   "source": [
    "y_hat_val2 = surrogate_explainer2.predict(X_val)\n",
    "print(\"\\n--------Validation/Holdout dataset classification report----------\\n\")\n",
    "print(classification_report(y_val, y_hat_val2, target_names=target_names))"
   ]
  },
  {
   "cell_type": "code",
   "execution_count": null,
   "metadata": {
    "collapsed": true
   },
   "outputs": [],
   "source": [
    "surrogate_explainer2.learn(X_train, y_train, use_oracle=True, prune='post', scorer_type='default')"
   ]
  },
  {
   "cell_type": "code",
   "execution_count": null,
   "metadata": {
    "collapsed": true
   },
   "outputs": [],
   "source": [
    "# The way plotting is done now is slow and not that interactive, this needs to be improved\n",
    "surrogate_explainer2.plot_global_decisions(colors=['lightsteelblue', 'darkkhaki', 'aquamarine'], \n",
    "                                          file_name='surrogate_tree_rental_postpruned.png', show_img=False)"
   ]
  },
  {
   "cell_type": "code",
   "execution_count": null,
   "metadata": {
    "collapsed": true
   },
   "outputs": [],
   "source": [
    "show_in_notebook('surrogate_tree_rental_postpruned.png', width=400, height=400)"
   ]
  },
  {
   "cell_type": "code",
   "execution_count": null,
   "metadata": {
    "collapsed": true
   },
   "outputs": [],
   "source": [
    "# Visualization for large graphs needs to be fixed, but in the meantime\n",
    "surrogate_explainer2.decisions_as_txt()"
   ]
  },
  {
   "cell_type": "code",
   "execution_count": null,
   "metadata": {
    "collapsed": true
   },
   "outputs": [],
   "source": [
    "y_hat_val2 = surrogate_explainer2.predict(X_val)\n",
    "print(\"\\n--------Validation/Holdout dataset classification report----------\\n\")\n",
    "print(classification_report(y_val, y_hat_val2, target_names=target_names))"
   ]
  },
  {
   "cell_type": "markdown",
   "metadata": {},
   "source": [
    "#### Changing the scoring function to 'log-loss'"
   ]
  },
  {
   "cell_type": "code",
   "execution_count": null,
   "metadata": {
    "collapsed": true
   },
   "outputs": [],
   "source": [
    "interpreter = Interpretation(X_train, feature_names=features_considered)\n",
    "model_inst = InMemoryModel(gbm.predict_proba, examples=X_train, model_type='classifier',\n",
    "                           feature_names=features_considered, target_names=['0', '1', '2'], log_level=_INFO)"
   ]
  },
  {
   "cell_type": "code",
   "execution_count": null,
   "metadata": {
    "collapsed": true
   },
   "outputs": [],
   "source": [
    "surrogate_explainer3 = interpreter.tree_surrogate(oracle=model_inst, class_weight=\"balanced\", seed=5)\n",
    "surrogate_explainer3.fit(X_train, y_train, use_oracle=True, prune='post', scorer_type='cross_entropy')"
   ]
  },
  {
   "cell_type": "code",
   "execution_count": null,
   "metadata": {
    "collapsed": true
   },
   "outputs": [],
   "source": [
    "y_hat_val3 = surrogate_explainer3.predict(X_val)\n",
    "print(\"\\n--------Validation/Holdout dataset classification report----------\\n\")\n",
    "print(classification_report(y_val, y_hat_val3, target_names=target_names))"
   ]
  },
  {
   "cell_type": "markdown",
   "metadata": {},
   "source": [
    "#### Let's see how a hierarchical Interpretable Tree based model does?"
   ]
  },
  {
   "cell_type": "code",
   "execution_count": null,
   "metadata": {
    "collapsed": true
   },
   "outputs": [],
   "source": [
    "surrogate_explainer4 = interpreter.tree_surrogate(oracle=model_inst, class_weight=\"balanced\", seed=5)\n",
    "surrogate_explainer4.fit(X_train, y_train, use_oracle=False, prune='post', scorer_type='default')"
   ]
  },
  {
   "cell_type": "code",
   "execution_count": null,
   "metadata": {
    "collapsed": true
   },
   "outputs": [],
   "source": [
    "y_hat_val4 = surrogate_explainer4.predict(X_val)\n",
    "print(\"\\n--------Validation/Holdout dataset classification report----------\\n\")\n",
    "print(classification_report(y_val, y_hat_val4, target_names=target_names))"
   ]
  },
  {
   "cell_type": "markdown",
   "metadata": {},
   "source": [
    "## Evaluating on supplied test dataset"
   ]
  },
  {
   "cell_type": "code",
   "execution_count": null,
   "metadata": {
    "collapsed": true
   },
   "outputs": [],
   "source": [
    "# using base estimator\n",
    "X_test = df_test[features_considered]\n",
    "y_hat_test_base_model = gbm.predict_proba(X_test)\n",
    "assert X_test.shape[0] == y_hat_test_base_model.shape[0]\n",
    "\n",
    "y_hat_test_surrogate = surrogate_explainer.predict(X_test, prob_score=True)\n",
    "assert X_test.shape[0] == y_hat_test_surrogate.shape[0]\n",
    "\n",
    "# post + F1 score\n",
    "y_hat_test_surrogate_post_f1 = surrogate_explainer2.predict(X_test, prob_score=True)\n",
    "assert X_test.shape[0] == y_hat_test_surrogate_post_f1.shape[0]\n",
    "\n",
    "# post + log-loss\n",
    "y_hat_test_surrogate_post_ll = surrogate_explainer3.predict(X_test, prob_score=True)\n",
    "assert X_test.shape[0] == y_hat_test_surrogate_post_ll.shape[0]\n",
    "\n",
    "# not trained on the predictions of the base model\n",
    "y_hat_test_surrogate_i = surrogate_explainer4.predict(X_test, prob_score=True)\n",
    "assert X_test.shape[0] == y_hat_test_surrogate_i.shape[0]"
   ]
  },
  {
   "cell_type": "code",
   "execution_count": null,
   "metadata": {
    "collapsed": true
   },
   "outputs": [],
   "source": [
    "## constructing the format needed for submission\n",
    "list_id = df_test['listing_id'].tolist()\n",
    "# base\n",
    "predictions = pd.DataFrame(y_hat_test_base_model, columns=['high', 'low', 'medium'])\n",
    "result_df_base = predictions\n",
    "result_df_base.loc[:, 'listing_id'] = pd.Series(list_id, index=result_df_base.index)\n",
    "# re-arrange the columns\n",
    "result_df_base = result_df_base[['listing_id', 'high', 'low', 'medium']]\n",
    "\n",
    "# Surrogate\n",
    "predictions = pd.DataFrame(y_hat_test_surrogate, columns=['high', 'low', 'medium'])\n",
    "result_df_surrogate = predictions\n",
    "result_df_surrogate.loc[:, 'listing_id'] = pd.Series(list_id, index=result_df_surrogate.index)\n",
    "# re-arrange the columns\n",
    "result_df_surrogate = result_df_surrogate[['listing_id', 'high', 'low', 'medium']]\n",
    "\n",
    "# post + F1 score\n",
    "predictions = pd.DataFrame(y_hat_test_surrogate_post_f1, columns=['high', 'low', 'medium'])\n",
    "result_df_surrogate_post_f1 = predictions\n",
    "result_df_surrogate_post_f1.loc[:, 'listing_id'] = pd.Series(list_id, index=result_df_surrogate_post_f1.index)\n",
    "# re-arrange the columns\n",
    "result_df_surrogate_post_f1 = result_df_surrogate_post_f1[['listing_id', 'high', 'low', 'medium']]\n",
    "\n",
    "# post + log-loss\n",
    "predictions = pd.DataFrame(y_hat_test_surrogate_post_ll, columns=['high', 'low', 'medium'])\n",
    "result_df_surrogate_post_ll = predictions\n",
    "result_df_surrogate_post_ll.loc[:, 'listing_id'] = pd.Series(list_id, index=result_df_surrogate_post_ll.index)\n",
    "# re-arrange the columns\n",
    "result_df_surrogate_post_ll = result_df_surrogate_post_ll[['listing_id', 'high', 'low', 'medium']]\n",
    "\n",
    "\n",
    "# a better interpretable tree using post-pruning\n",
    "predictions = pd.DataFrame(y_hat_test_surrogate_i, columns=['high', 'low', 'medium'])\n",
    "result_df_surrogate_i = predictions\n",
    "result_df_surrogate_i.loc[:, 'listing_id'] = pd.Series(list_id, index=result_df_surrogate_i.index)\n",
    "# re-arrange the columns\n",
    "result_df_surrogate_i = result_df_surrogate_i[['listing_id', 'high', 'low', 'medium']]"
   ]
  },
  {
   "cell_type": "code",
   "execution_count": null,
   "metadata": {
    "collapsed": true
   },
   "outputs": [],
   "source": [
    "# converting to csv\n",
    "result_df_base.to_csv('submission_base.csv', index=False)\n",
    "# Using surrogate models for predicting didn't give good result but nevertheless could possibly be used\n",
    "# for explaining the decisions approximately\n",
    "result_df_surrogate.to_csv('submission_surrogate.csv', index=False)\n",
    "result_df_surrogate_post_f1.to_csv('submission_post_f1.csv', index=False)\n",
    "result_df_surrogate_post_ll.to_csv('submission_post_ll.csv', index=False)\n",
    "\n",
    "# interpretable model without using predictions from the base model(Oracle) didn't help either in this case\n",
    "result_df_surrogate_i.to_csv('submission_i.csv', index=False)"
   ]
  }
 ],
 "metadata": {
  "kernelspec": {
   "display_name": "Python 3",
   "language": "python",
   "name": "python3"
  },
  "language_info": {
   "codemirror_mode": {
    "name": "ipython",
    "version": 3
   },
   "file_extension": ".py",
   "mimetype": "text/x-python",
   "name": "python",
   "nbconvert_exporter": "python",
   "pygments_lexer": "ipython3",
   "version": "3.6.3"
  }
 },
 "nbformat": 4,
 "nbformat_minor": 2
}
